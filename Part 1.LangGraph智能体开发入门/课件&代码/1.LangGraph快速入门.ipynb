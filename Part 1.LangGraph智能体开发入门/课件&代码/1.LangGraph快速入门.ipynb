{
 "cells": [
  {
   "cell_type": "markdown",
   "id": "7d8e63ac-c0e8-403a-8b55-67ed75fcc74f",
   "metadata": {},
   "source": [
    "---"
   ]
  },
  {
   "cell_type": "markdown",
   "id": "8c3697d3-5ebe-4f06-a6fa-4e140d767b41",
   "metadata": {},
   "source": [
    "# <center> LangGraph快速入门与Agent开发实战\n",
    "# <center> Part 1.LangGraph智能体开发快速入门"
   ]
  },
  {
   "cell_type": "markdown",
   "id": "941fa1f7-e811-4fa7-b8a0-a90f90770d7d",
   "metadata": {},
   "source": [
    "&emsp;&emsp;本期公开课，我们来深入系统讲解目前最通用、同时也是最实用的Agent开发框架：LangGraph。"
   ]
  },
  {
   "cell_type": "markdown",
   "id": "42b4e910-f0d0-487e-8922-f83acd3141e9",
   "metadata": {},
   "source": [
    "<center><img src=\"https://ml2022.oss-cn-hangzhou.aliyuncs.com/img/image-20250625220623208.png\" alt=\"image-20250625220623208\" style=\"zoom:33%;\" />"
   ]
  },
  {
   "cell_type": "markdown",
   "id": "bc9cc76d-3081-455e-9fa4-7f30cd5c53d6",
   "metadata": {},
   "source": [
    "> LangGraph官网：https://langchain-ai.github.io/langgraph/"
   ]
  },
  {
   "cell_type": "markdown",
   "id": "9426e469-dd49-41e8-a8d7-334c2ef69785",
   "metadata": {},
   "source": [
    "## 一、LangGraph入门介绍"
   ]
  },
  {
   "cell_type": "markdown",
   "id": "81a89af7-8dca-4e88-b970-4b148fd59d64",
   "metadata": {},
   "source": [
    "### 1. LangGraph：超越LangChain的全新一代Agent开发框架"
   ]
  },
  {
   "cell_type": "markdown",
   "id": "7957bace-ec46-4a06-942b-8c0ef20df727",
   "metadata": {},
   "source": [
    "- Agent开发首选框架：LangChain"
   ]
  },
  {
   "cell_type": "markdown",
   "id": "3eb34e76-642a-47a6-a858-f4a129fedfc8",
   "metadata": {},
   "source": [
    "&emsp;&emsp;说到现阶段目前最流行、最通用的Agent开发框架，毫无疑问，肯定是LangChain。LangChain作为2022年就已经开源的元老级开发框架，历经数年的发展，其功能和生态都已非常完善，并且拥有数量众多的开发者。在我们团队统计的今年第一季度大模型岗位JD中，有90%以上的Agent开发岗位要求掌握LangChain，可以说LangChain就是目前最通用、最流行的Agent开发框架没有之一。"
   ]
  },
  {
   "cell_type": "markdown",
   "id": "66ea77f0-65da-4922-ab51-4809a8371bf8",
   "metadata": {},
   "source": [
    "- LangChain的技术架构思路"
   ]
  },
  {
   "cell_type": "markdown",
   "id": "92b14a09-88fe-40d1-954e-4caa3f0035c6",
   "metadata": {},
   "source": [
    "&emsp;&emsp;不过，由于LangChain诞生时间较早，在2022年末，GPT-3.5刚诞生之时，开发者对大模型的想象主要是希望用其搭建一个又一个工作流，而这也成为LangChain的核心技术目标，LangChain中“Chain”就是指链、也就是搭建工作流的意思。"
   ]
  },
  {
   "cell_type": "markdown",
   "id": "6a4805e8-cc7c-4cd5-ab49-756d21d2a0a1",
   "metadata": {},
   "source": [
    "<center><img src=\"https://ml2022.oss-cn-hangzhou.aliyuncs.com/img/202506101657181.png\" alt=\"image-20250610165710087\" style=\"zoom:50%;\" />"
   ]
  },
  {
   "cell_type": "markdown",
   "id": "3cc2a69a-47b3-4966-ac71-61e3a253ee34",
   "metadata": {},
   "source": [
    "而且当时Function calling功能尚未诞生、大模型普遍性能较弱，并且2023年各类大模型百花齐放，但接口混乱、且上下文很短，开发者调用和开发都非常麻烦。因此，LangChain初始的核心架构有两层，第一层是围绕各类模型接入设置统一的接口，而为了让各类模型接入更加统一和稳定，LangChain不惜为不同的模型单独开发一个库，例如要接入Claude模型，我们就需要提前安装langchain-anthropic，而如果要接入DeepSeek模型，则需要安装langchain-deepseek。这么做虽然过程麻烦，但却能很好的保障开发过程的稳定性。"
   ]
  },
  {
   "cell_type": "markdown",
   "id": "498678fe-67dd-4045-9d6a-cb3eb57f0bb2",
   "metadata": {},
   "source": [
    "<center><img src=\"https://ml2022.oss-cn-hangzhou.aliyuncs.com/img/image-20250626114019802.png\" alt=\"image-20250626114019802\" style=\"zoom:33%;\" />"
   ]
  },
  {
   "cell_type": "markdown",
   "id": "3f06e87c-d0bd-4e67-b927-a1d6e3a1ca6d",
   "metadata": {},
   "source": [
    "> 各类模型接入列表：https://python.langchain.com/docs/integrations/chat/         \n",
    "> 此外需要注意的是，LangGraph也需要使用和LangChain一样的模型接入流程。"
   ]
  },
  {
   "cell_type": "markdown",
   "id": "fe34023e-ecf5-4e8e-9f97-f7acf40e63ec",
   "metadata": {},
   "source": [
    "而相比之下，OpenAI的Agents SDK则统一要求基座模型以OpenAI风格API进行接入，这必然会导致一些兼容性问题，而谷歌ADK则借助第三方库LiteLlm来调用基座模型，而这就会导致两个库功能不匹配的问题。因此从底层模型接入角度来看，LangChain也是最完善和最稳定的。"
   ]
  },
  {
   "cell_type": "markdown",
   "id": "989e6d9f-1671-4b04-b0a4-3ef22408bc9b",
   "metadata": {},
   "source": [
    "&emsp;&emsp;而在确保模型能够稳定接入后，LangChain紧接着定义了一整套LCEL（LangChain Expression Language）的语法规则，基于这个语法，开发者能够非常便捷的将提示词模板、大模型以及一些外部工具进行组合拼装，搭建一些大模型工作流，其功能定位和现在的n8n非常类似。"
   ]
  },
  {
   "cell_type": "markdown",
   "id": "0f45a6e7-80db-4a20-9abe-9e465251121b",
   "metadata": {},
   "source": [
    "<center><img src=\"https://ml2022.oss-cn-hangzhou.aliyuncs.com/img/image-20250626115042276.png\" alt=\"image-20250626115042276\" style=\"zoom:50%;\" />"
   ]
  },
  {
   "cell_type": "markdown",
   "id": "fdce20fe-2f76-4cfa-a723-940cff8afe9d",
   "metadata": {},
   "source": [
    "<center><img src=\"https://ml2022.oss-cn-hangzhou.aliyuncs.com/img/image-20250626114623225.png\" alt=\"image-20250626114623225\" style=\"zoom:33%;\" />"
   ]
  },
  {
   "cell_type": "markdown",
   "id": "2f09da7c-4443-427d-87e9-e71d077fcddb",
   "metadata": {},
   "source": [
    "但是，大模型基座模型能力在飞速进化，例如目前最新一代的大模型，不仅拥有非常强悍的外部工具识别和调用能力，还原生就支持多工具并联和串联调用，而开发者对于大模型应用开发的需求也在快速变化，单纯的构建这种线性的工作流，可拓展性并不强。当前开发者更偏好的是“用AI开发AI”的思路，也就是我们不用定死工作流，而可以让大模型自主判断每一步该怎么做，然后实时创建一些链路，并根据运行情况随时调整。这也就是目前Agent智能体开发的核心思路。"
   ]
  },
  {
   "cell_type": "markdown",
   "id": "5d6672dd-4dd5-4b5b-955a-e990a9cff93c",
   "metadata": {},
   "source": [
    "&emsp;&emsp;为此，LangChain又进行了第三层封装，在Chain基础上，LangChain设置了一整套能够实时根据用户需求灵活创建Chain来完成工作的API——Agent API。借助这些API，开发者仅需将模型、提示词模板和外部工具“放一起”创建Agent，该Agent就能自动根据用户需求创建一些链来完成工作。从而避免开发者反复编写各种链的复杂工作，大幅加快的了开发效率。"
   ]
  },
  {
   "cell_type": "markdown",
   "id": "ae3cdc59-2a9e-45f7-a7dd-3bcdb3c098b5",
   "metadata": {},
   "source": [
    "<center><img src=\"https://ml2022.oss-cn-hangzhou.aliyuncs.com/img/image-20250626115916577.png\" alt=\"image-20250626115916577\" style=\"zoom:50%;\" />"
   ]
  },
  {
   "cell_type": "markdown",
   "id": "101e67ee-4f72-47b8-bb31-1d82730e5125",
   "metadata": {},
   "source": [
    "> 这种开发模式也就是目前OpenAI Agents SDK和谷歌ADK遵循的开发模式。"
   ]
  },
  {
   "cell_type": "markdown",
   "id": "44200e06-3af2-4cc8-a02a-4175b439932f",
   "metadata": {},
   "source": [
    "因此，LangChain整体架构如下："
   ]
  },
  {
   "cell_type": "markdown",
   "id": "e5e6bf93-044a-498d-b9f5-69b0e808b3cf",
   "metadata": {},
   "source": [
    "<center><img src=\"https://ml2022.oss-cn-hangzhou.aliyuncs.com/img/image-20250626112423334.png\" alt=\"image-20250626112423334\" style=\"zoom:50%;\" />"
   ]
  },
  {
   "cell_type": "markdown",
   "id": "7631553d-3437-499c-8f11-a80e1284324e",
   "metadata": {},
   "source": [
    "不过，伴随着Agent开发飞速发展，很快LangChain就意识到，要真正满足新一代Agent开发需求，仅靠Agent API是完全不够的，因此在23年下半年，LangChain开源了一个实验性质项目——LangGraph。"
   ]
  },
  {
   "cell_type": "markdown",
   "id": "abea887b-0bce-4116-a3f0-77478ce660a4",
   "metadata": {},
   "source": [
    "- LangGraph核心技术概念"
   ]
  },
  {
   "cell_type": "markdown",
   "id": "eb43b1e8-7ca4-4385-a54c-812ca874466e",
   "metadata": {},
   "source": [
    "&emsp;&emsp;LangGraph和LangChain同宗同源，底层架构完全相同、接口完全相通。从开发者角度来说，LangGraph也是使用LangChain底层API来接入各类大模型、LangGraph也完全兼容LangChain内置的一系列工具。换而言之，LangGraph的核心功能都是依托LangChain来完成。但是和LangChain的链式工作流哲学完全不同的是，LangGraph的基础哲学是构建图结构的工作流，并引入“状态”这一核心概念来描绘任务执行情况，从而拓展了LangChain LCEL链式语法的功能灵活程度。"
   ]
  },
  {
   "cell_type": "markdown",
   "id": "325541d4-3820-41ab-8bc5-a3d4af12d82a",
   "metadata": {},
   "source": [
    "<center><img src=\"https://ml2022.oss-cn-hangzhou.aliyuncs.com/img/image-20250626122130988.png\" alt=\"image-20250626122130988\" style=\"zoom:50%;\" />"
   ]
  },
  {
   "cell_type": "markdown",
   "id": "43529678-c585-4c57-a6ce-b967ca605c0e",
   "metadata": {},
   "source": [
    "很明显，图状工作流肯定比链式工作流功能要更加灵活，功能可拓展性也更强。"
   ]
  },
  {
   "cell_type": "markdown",
   "id": "d9255c55-dc82-4cf4-a069-21fab7b0093c",
   "metadata": {},
   "source": [
    "> 用于创建图结构的工作流，这也是LangGraph中Graph一词的由来。"
   ]
  },
  {
   "cell_type": "markdown",
   "id": "49a788fa-2fca-4708-a1e1-4877cb67c050",
   "metadata": {},
   "source": [
    "- LangGraph的本质：LangChain的高级编排工具"
   ]
  },
  {
   "cell_type": "markdown",
   "id": "140f0408-e680-4584-a8f2-99bd268fe247",
   "metadata": {},
   "source": [
    "&emsp;&emsp;不过需要注意的是，LangGraph是基于LangChain进行的构建，**无论图结构多复杂，单独每个任务执行链路仍然是现行的，其背后仍然是靠着LangChain的Chain来实现的**。因此我们可以这么来描述LangChain和LangGraph之间的关系，**LangGraph是LangChain工作流的高级编排工具**，其中“高级”之处就是LangGraph能按照图结构来编排工作流。"
   ]
  },
  {
   "cell_type": "markdown",
   "id": "f6e5c34c-267b-4b0b-a0ca-9ff39c0d2437",
   "metadata": {},
   "source": [
    "- LangGraph的技术架构"
   ]
  },
  {
   "cell_type": "markdown",
   "id": "54fcf8b6-e804-48ed-bab3-9df537aa1a61",
   "metadata": {},
   "source": [
    "&emsp;&emsp;尽管图结构看起来比链式结构灵活很多，但在实际开发过程中，要创建一个图结构却绝非易事。大家可以试想一下，要在代码环境中描述清楚一个图，至少需要清晰的说明图中有哪些节点，不同节点之间是什么关系（边如何连接），同时还需要设置各节点功能，然后才能测试上线，这个流程其实是非常复杂的，哪怕是简单的一个图也需要用很多代码才能描述清楚："
   ]
  },
  {
   "cell_type": "markdown",
   "id": "9e3b954d-b743-45f8-aec0-cbefbaa42978",
   "metadata": {},
   "source": [
    "<center><img src=\"https://ml2022.oss-cn-hangzhou.aliyuncs.com/img/image-20250626122825247.png\" alt=\"image-20250626122825247\" style=\"zoom:50%;\" />"
   ]
  },
  {
   "cell_type": "markdown",
   "id": "05eda21f-a338-40aa-b44e-99284655c6c0",
   "metadata": {},
   "source": [
    "这就会导致开发效率受到影响。"
   ]
  },
  {
   "cell_type": "markdown",
   "id": "e672321f-d3ef-406d-81e6-3ccd8d0310f7",
   "metadata": {},
   "source": [
    "> LangGraph的本质是DAG（有向无环图），但它扩展支持了“有状态循环图”，本质上是一种 可控状态机（State Machine）。"
   ]
  },
  {
   "cell_type": "markdown",
   "id": "ea7a5589-5ec1-44db-bd77-33d85d697cb8",
   "metadata": {},
   "source": [
    "- LangGraph的高层封装API"
   ]
  },
  {
   "cell_type": "markdown",
   "id": "1757ccd7-8a33-4aab-b885-7f9ddfe5132a",
   "metadata": {},
   "source": [
    "&emsp;&emsp;不过这对于LangChain来说并不难解决。LangChain生态各框架的核心思路都是“既要有底层API来定义基础功能，同时也要有高层API来加快开发效率”，就好比LangChain中既有LCEL语法、同时也有Agent API一样，LangGraph也提供了基于图结构基础语法的高层API。"
   ]
  },
  {
   "cell_type": "markdown",
   "id": "ce3f5fc8-b655-4dfd-a984-0fa9a4fcfe25",
   "metadata": {},
   "source": [
    "&emsp;&emsp;LangGraph的高层API主要分为两层，其一是Agent API，用于将大模型、提示词模板、外部工具等关键元素快速封装为图中的一些节点，而更高一层的封装，则是进一步创建一些预构建的Agent、也就是预构建好的图，开发者只需要带入设置好要带入的工具和模型，三行代码就能借助这些预构建好的图，创建一个完整的Agent："
   ]
  },
  {
   "cell_type": "markdown",
   "id": "454a79bd-3cbd-4959-9f1d-08ddfd176e5a",
   "metadata": {},
   "source": [
    "<center><img src=\"https://ml2022.oss-cn-hangzhou.aliyuncs.com/img/image-20250626123622786.png\" alt=\"image-20250626123622786\" style=\"zoom:50%;\" />"
   ]
  },
  {
   "cell_type": "markdown",
   "id": "493ce0a8-425c-48b8-b9db-ccf64605fa48",
   "metadata": {},
   "source": [
    "开发效率得到极大提升。"
   ]
  },
  {
   "cell_type": "markdown",
   "id": "2db034f8-ee3c-4999-a0ba-074563b5f8be",
   "metadata": {},
   "source": [
    "&emsp;&emsp;完整的LangGraph三层API架构图如下所示："
   ]
  },
  {
   "cell_type": "markdown",
   "id": "d9994fec-52ee-4c1c-846a-4804272a6a92",
   "metadata": {},
   "source": [
    "<center><img src=\"https://ml2022.oss-cn-hangzhou.aliyuncs.com/img/image-20250626123848784.png\" alt=\"image-20250626123848784\" style=\"zoom:33%;\" />"
   ]
  },
  {
   "cell_type": "markdown",
   "id": "e55f8944-c151-4db8-a1cb-39586d2d3956",
   "metadata": {},
   "source": [
    "依托LangChain完善的生态、拥有丰富稳定的API架构、以及便捷上手等特性，使得LangGraph成为目前超越LangChain的新一代Agent开发框架。"
   ]
  },
  {
   "cell_type": "markdown",
   "id": "5b81f2ad-3a25-4f1c-a2ec-d0867ec07995",
   "metadata": {},
   "source": [
    "### 2. LangGraph开发必备工具套件"
   ]
  },
  {
   "cell_type": "markdown",
   "id": "dcf12061-b2c3-48e8-a46d-3af9278f5c4a",
   "metadata": {},
   "source": [
    "&emsp;&emsp;在对LangGraph有了一定的基础了解之后，对于开发者来说，还需要进一步了解和掌握LangGraph必备的开发者套件。分别是LangGraph运行监控框架LangSmith、LangGraph图结构可视化与调试框架LangGraph Studio和LangGraph服务部署工具LangGraph Cli。可以说这些开发工具套件，是真正推动LangGraph的企业级应用开发效率大幅提升的关键。同时监控、调试和部署工具，也是全新一代企业级Agent开发框架的必备工具，也是开发者必须要掌握的基础工具。"
   ]
  },
  {
   "cell_type": "markdown",
   "id": "4059e07b-425e-4d08-a8ad-02eed38fc731",
   "metadata": {},
   "source": [
    "- LangGraph运行监控框架：LangSmith"
   ]
  },
  {
   "cell_type": "markdown",
   "id": "a9e6b014-2679-4b58-959d-18fd0fe6732d",
   "metadata": {},
   "source": [
    "> LangSmith官网地址：https://docs.smith.langchain.com/"
   ]
  },
  {
   "cell_type": "markdown",
   "id": "e2883aca-db76-47a8-a1c1-906d82db01db",
   "metadata": {},
   "source": [
    "&emsp;&emsp;LangSmith 是一款用于构建、调试、可视化和评估 LLM 工作流的全生命周期开发平台。它聚焦的不是模型训练，而是我们在构建 AI 应用（尤其是多工具 Agent、LangChain/Graph）时的「可视化调试」、「性能评估」与「运维监控」。"
   ]
  },
  {
   "cell_type": "markdown",
   "id": "55e65ed5-2775-4da2-9aac-53711eb74877",
   "metadata": {},
   "source": [
    "<center><img src=\"https://ml2022.oss-cn-hangzhou.aliyuncs.com/img/image-20250626130104156.png\" alt=\"image-20250626130104156\" style=\"zoom:50%;\" />"
   ]
  },
  {
   "cell_type": "markdown",
   "id": "6a9b9d48-2e1d-4e5b-9318-f4f23c4ae8ae",
   "metadata": {},
   "source": [
    "| 功能类别                           | 描述                                   | 场景                   |\n",
    "| ------------------------------ | ------------------------------------ | -------------------- |\n",
    "| 🧪 调试追踪（Trace Debugging）       | 可视化展示每个 LLM 调用、工具调用、Prompt、输入输出      | Agent 调试、Graph 调用链分析 |\n",
    "| 📊 评估（Evaluation）              | 支持自动评估多个输入样本的回答质量，可自定义评分维度           | 批量测试 LLM 表现、A/B 对比   |\n",
    "| 🧵 会话记录（Sessions / Runs）       | 每次 chain 或 agent 的运行都会被记录为一个 Run，可溯源 | Agent 问题诊断、用户问题分析    |\n",
    "| 🔧 Prompt 管理器（Prompt Registry） | 保存、版本控制、调用历史 prompt                  | 多版本 prompt 迭代测试      |\n",
    "| 📈 流量监控（Telemetry）             | 实时查看运行次数、错误率、响应时间等                   | 在生产环境中监控 Agent 质量    |\n",
    "| 📁 Dataset 管理                  | 管理自定义测试集样本，支持自动化评估                   | 微调前评估、数据对比实验         |\n",
    "| 📜 LangGraph 可视化               | 对 LangGraph 中每个节点运行情况进行实时可视化展示       | Graph 执行追踪           |\n"
   ]
  },
  {
   "cell_type": "markdown",
   "id": "36ef53a5-cc52-44af-ad3a-5c91dc83a32d",
   "metadata": {},
   "source": [
    "- LangGraph图结构可视化与调试框架：LangGraph Studio"
   ]
  },
  {
   "cell_type": "markdown",
   "id": "d18c452e-0445-4801-a574-8b7a28f6be78",
   "metadata": {},
   "source": [
    "> LangGraph Studio官网地址：https://www.langgraph.dev/studio"
   ]
  },
  {
   "cell_type": "markdown",
   "id": "86ccac5a-677a-41bc-b630-1111d6734602",
   "metadata": {},
   "source": [
    "&emsp;&emsp;LangGraph Studio 是一个用于可视化构建、测试、分享和部署智能体流程图的图形化 IDE + 运行平台。"
   ]
  },
  {
   "cell_type": "markdown",
   "id": "809278e1-0309-4adf-a449-9e3ffffc5157",
   "metadata": {},
   "source": [
    "<center><img src=\"https://ml2022.oss-cn-hangzhou.aliyuncs.com/img/image-20250626130624364.png\" alt=\"image-20250626130624364\" style=\"zoom: 50%;\" />"
   ]
  },
  {
   "cell_type": "markdown",
   "id": "5d749628-39d7-4934-868d-bba30f210d84",
   "metadata": {},
   "source": [
    "| 功能模块            | 说明                                        | 应用场景             |\n",
    "| --------------- | ----------------------------------------- | ---------------- |\n",
    "| 🧩 Graph 编辑器    | 以拖拽方式创建节点（工具、模型、Router）并连接                | 零代码构建 LangGraph  |\n",
    "| 🔍 节点配置器        | 每个节点可配置 LLM、工具、Router 逻辑、Memory           | 灵活定制 Agent 控制流   |\n",
    "| ▶️ 即时测试         | 输入 prompt 可在浏览器中运行整个图                     | 实时测试执行结果         |\n",
    "| 💾 云端保存 / 分享    | 将构建的 Graph 保存为公共 URL / 私人项目               | 团队协作，Demo 分享     |\n",
    "| 📎 Tool 插件管理    | 可连接自定义工具（MCP）、HTTP API、Python 工具          | 插件式扩展 Agent 功能   |\n",
    "| 🔁 Router 分支节点  | 创建条件分支，支持 if/else 路由                      | 决策型智能体           |\n",
    "| 📦 上传文档 / 多模态   | 可以上传文件（如 PDF）并嵌入进图中处理流程                   | RAG 结构、OCR、图文问答等 |\n",
    "| 🧠 Prompt 输入/预览 | 编辑 prompt 并观察其运行效果                        | Prompt 工程调试      |\n",
    "| 📤 一键部署         | 将 Graph 部署为可被 Agent Chat UI 使用的 Assistant | 快速集成到前端          |"
   ]
  },
  {
   "cell_type": "markdown",
   "id": "5f9526f8-80d0-43f1-a572-53348f220ee5",
   "metadata": {},
   "source": [
    "- LangGraph服务部署工具：LangGraph Cli"
   ]
  },
  {
   "cell_type": "markdown",
   "id": "7dd567a5-24fe-44b3-b792-1728d5f5d857",
   "metadata": {},
   "source": [
    "> LangGraph Cli官网地址：https://www.langgraph.dev/ （需要代理环境）"
   ]
  },
  {
   "cell_type": "markdown",
   "id": "390f7f23-ccc5-479c-bcf7-97c3eb33eebc",
   "metadata": {},
   "source": [
    "&emsp;&emsp;LangGraph CLI 是用于本地启动、调试、测试和托管 LangGraph 智能体图的开发者命令行工具。"
   ]
  },
  {
   "cell_type": "markdown",
   "id": "2117497d-a73c-41d5-963d-3546e21cb447",
   "metadata": {},
   "source": [
    "<center><img src=\"https://ml2022.oss-cn-hangzhou.aliyuncs.com/img/image-20250626131252066.png\" alt=\"image-20250626131252066\" style=\"zoom:50%;\" />"
   ]
  },
  {
   "cell_type": "markdown",
   "id": "fefdbf51-1aad-46ef-967d-61dab460cb21",
   "metadata": {},
   "source": [
    "| 功能类别               | 命令示例                                                  | 说明                                      |\n",
    "| ------------------ | ----------------------------------------------------- | --------------------------------------- |\n",
    "| ✅ 启动 Graph 服务      | `langgraph dev`                                       | 启动 Graph 的开发服务器，供前端（如 Agent Chat UI）调用  |\n",
    "| 🧪 测试 Graph 输入     | `langgraph run graph:graph --input '{\"input\": \"你好\"}'` | 本地 CLI 输入测试，输出结果                        |\n",
    "| 🧭 管理项目结构          | `langgraph init`                                      | 初始化一个标准 Graph 项目目录结构                    |\n",
    "| 📦 部署 Graph（未来）    | `langgraph deploy`（预留）                                | 发布 graph 至 LangGraph 云端（已对接 Studio）     |\n",
    "| 🧱 显示 Assistant 列表 | `langgraph list`                                      | 显示当前 graph 中有哪些 assistant（即 entrypoint） |\n",
    "| 🔄 重载运行时           | 自动热重载                                                 | 修改 `graph.py` 时，`dev` 模式自动重启生效          |"
   ]
  },
  {
   "cell_type": "markdown",
   "id": "14c655a5-c6aa-46b0-9b41-533a52576c19",
   "metadata": {},
   "source": [
    "而一旦应用成功部署上线，LangGraph Cli还会非常贴心的提供后端接口说明文档："
   ]
  },
  {
   "cell_type": "markdown",
   "id": "b08c6861-2441-4ead-9c9c-343f5b207eb3",
   "metadata": {},
   "source": [
    "<center><img src=\"https://ml2022.oss-cn-hangzhou.aliyuncs.com/img/image-20250626132044152.png\" alt=\"image-20250626132044152\" style=\"zoom:50%;\" />"
   ]
  },
  {
   "cell_type": "markdown",
   "id": "5db017de-c1fd-46e1-b5f4-a16a76d453e3",
   "metadata": {},
   "source": [
    "而对于LangGraph构建的智能体，除了能够本地部署外，官方也提供了云托管服务，借助LangGraph Platform，开发者可以将构建的智能体 Graph部署到云端，并允许公开访问，同时支持支持长时间运行、文件上传、外部 API 调用、Studio 集成等功能。"
   ]
  },
  {
   "cell_type": "markdown",
   "id": "e6c41670-6c82-4d59-b726-cad7dcf1be9d",
   "metadata": {},
   "source": [
    "- LangGraph Agent前端可视化工具：Agent Chat UI"
   ]
  },
  {
   "cell_type": "markdown",
   "id": "dad32367-3144-42d5-b502-117d8f32cf20",
   "metadata": {},
   "source": [
    "&emsp;&emsp;Agent Chat UI 是 LangGraph/LangChain 官方提供的多智能体前端对话面板，用于与后端 Agent（Graph 或 Chain）进行实时互动，支持上传文件、多工具协同、结构化输出、多轮对话、调试标注等功能。"
   ]
  },
  {
   "cell_type": "markdown",
   "id": "c32b84ac-def9-4279-8e0a-0fcbcd0e97a9",
   "metadata": {},
   "source": [
    "> Agent Chat UI官网地址：https://langchain-ai.github.io/langgraph/agents/ui/"
   ]
  },
  {
   "cell_type": "markdown",
   "id": "598b9c0f-533d-44bd-bba2-e23ed2af561a",
   "metadata": {},
   "source": [
    "<center><img src=\"https://ml2022.oss-cn-hangzhou.aliyuncs.com/img/39f6cd74c2d5ff2401fd511e9aa9b42.png\" alt=\"39f6cd74c2d5ff2401fd511e9aa9b42\" style=\"zoom:33%;\" />"
   ]
  },
  {
   "cell_type": "markdown",
   "id": "021534de-c04f-4217-81b4-9953ff0b9bf1",
   "metadata": {},
   "source": [
    "| 功能模块                  | 描述                            | 应用场景                       |\n",
    "| --------------------- | ----------------------------- | -------------------------- |\n",
    "| 💬 多轮对话框              | 类似 ChatGPT 的输入区域，支持多轮上下文      | 用户提问，Agent 回复              |\n",
    "| 🛠 工具调用轨迹显示           | 显示每个调用的工具、参数、结果（结构化）          | Agent 推理透明化                |\n",
    "| 📄 上传 PDF / 图片        | 支持上传文档、图片、嵌入多模态输入             | RAG、OCR、图像问答               |\n",
    "| 📁 文件面板               | 可查看上传历史文件、删除、重新引用             | 管理文档输入                     |\n",
    "| 🧭 Assistant 切换       | 支持切换不同 Assistant（Graph entry） | 一键切换模型能力（如 math / weather） |\n",
    "| 🧩 插件支持               | 与 MCP 工具、LangGraph 图打通        | 工具式 Agent 调用               |\n",
    "| 🔍 调试视图               | 显示每轮 Agent 的思维过程和中间状态         | Prompt 调试、模型行为分析           |\n",
    "| 🌐 云部署支持              | 支持接入远端 Graph API（如 dev 服务器）   | 前后端分离部署                    |\n",
    "| 🧪 与 LangSmith 对接（可选） | 若后端启用 tracing，可同步显示运行 trace   | 调试闭环                       |"
   ]
  },
  {
   "cell_type": "markdown",
   "id": "30fe2e80-04be-49f3-bd4a-6c6743a75e40",
   "metadata": {},
   "source": [
    "- LangGraph内置工具库与MCP调用组件"
   ]
  },
  {
   "cell_type": "markdown",
   "id": "b6e56b40-502b-43f1-b8d0-b78a0b7aa2cd",
   "metadata": {},
   "source": [
    "&emsp;&emsp;除了有上述非常多实用的开发工具外，LangGraph还全面兼容LangChain的内置工具集。LangChain自诞生之初就为开发者提供了非常多种类各异的、封装好的实用工具，历经几年发展时间，目前LangChain已经拥有了数以百计的内置实用工具，包括网络搜索工具、浏览器自动化工具、Python代码解释器、SQL代码解释器等。而作为LangChain同系框架，LangGraph也可以无缝调用LangChain各项开发工具，从而大幅提高开发效率。"
   ]
  },
  {
   "cell_type": "markdown",
   "id": "f035bcdf-489f-4808-a2eb-0eac07139d28",
   "metadata": {},
   "source": [
    "> LangChain工具集：https://python.langchain.com/docs/integrations/tools/ "
   ]
  },
  {
   "cell_type": "markdown",
   "id": "a0b2bb74-3f64-41c8-a481-7a4965d530d4",
   "metadata": {},
   "source": [
    "<center><img src=\"https://ml2022.oss-cn-hangzhou.aliyuncs.com/img/image-20250626155849820.png\" alt=\"image-20250626155849820\" style=\"zoom:50%;\" />"
   ]
  },
  {
   "cell_type": "markdown",
   "id": "ae84c324-4504-43f4-9357-9f3335accf2a",
   "metadata": {},
   "source": [
    "此外，LangChain是最早支持MCP的开发框架之一，借助`langchain-mcp-adapters`，LangChain和LangGraph便可快速接入各类MCP工具。"
   ]
  },
  {
   "cell_type": "markdown",
   "id": "7f7a1fcc-8fba-4f6b-9046-e71c9443e45e",
   "metadata": {},
   "source": [
    "<center><img src=\"https://ml2022.oss-cn-hangzhou.aliyuncs.com/img/image-20250626160049848.png\" alt=\"image-20250626160049848\" style=\"zoom:33%;\" />"
   ]
  },
  {
   "cell_type": "markdown",
   "id": "0a2eed67-4021-41bd-843a-9910a551905d",
   "metadata": {},
   "source": [
    "并且LangGraph也同样支持谷歌的A2A（跨Agents通信协议）。"
   ]
  },
  {
   "cell_type": "markdown",
   "id": "c3a6d12b-e4b7-47ac-8e30-b9fa31529e52",
   "metadata": {},
   "source": [
    "### 3. LangGraph VS 其他开发框架"
   ]
  },
  {
   "cell_type": "markdown",
   "id": "6713b765-3470-4604-9a4e-e2b4d84c4b3b",
   "metadata": {},
   "source": [
    "&emsp;&emsp;而关于LangGraph框架与其他开发框架的对比，其实从上面对于LangGrpah的技术介绍不难看出，依托LangChain的强大生态，LangGraph可以说是目前功能最完善、性能最强的开发框架没有之一。"
   ]
  },
  {
   "cell_type": "markdown",
   "id": "288d52bc-174e-4da3-8a3d-c3cfeb0e9a22",
   "metadata": {},
   "source": [
    "- Langchain VS LangGraph"
   ]
  },
  {
   "cell_type": "markdown",
   "id": "e07acae5-1681-48a6-90e5-368f0871b047",
   "metadata": {},
   "source": [
    "&emsp;&emsp;首先，如果要对比LangGraph和LangChain，其实二者定位有本质的区别。从目前LangChain工具功能划分来看，LangChain未来将继续专注于更加底层的API开发与维护，以及链式基础功能的维护，而作为LangChain链式功能更高级编排工具，LangGraph未来将承担更多Agent开发的重任。"
   ]
  },
  {
   "cell_type": "markdown",
   "id": "a43eea81-53c0-41ca-be9b-7eaf0bb7c0e3",
   "metadata": {},
   "source": [
    "&emsp;&emsp;因此如果要从LangChain和LangGraph中挑选一项进行学习的话，推荐优先学习更高层的LangGraph API，而在实际使用LangGraph的过程中，将会用到非常多的LangChain基础功能，届时再补充LangChain基础知识即可。另外，如果希望一站式深入学习LangChain&LangGraph技术体系，也可以先从底层API开始学习，先学习LangChain打好基础，然后再学习LangGraph，这样的学习路径将有助于搭建更加扎实的技术和技能体系。"
   ]
  },
  {
   "cell_type": "markdown",
   "id": "563ea282-8da1-4dba-b627-9c59fb357c30",
   "metadata": {},
   "source": [
    "> LangChain公开课参考：https://www.bilibili.com/video/BV1pYKgzAE5C/\n",
    "> <center><img src=\"https://ml2022.oss-cn-hangzhou.aliyuncs.com/img/image-20250624201947404.png\" alt=\"image-20250624201947404\" style=\"zoom: 23%;\" />\n",
    "> <center><img src=\"https://ml2022.oss-cn-hangzhou.aliyuncs.com/img/e873ea36c8a2263b2a88a0f86f9481b.png\" alt=\"e873ea36c8a2263b2a88a0f86f9481b\" style=\"zoom:33%;\" />"
   ]
  },
  {
   "cell_type": "markdown",
   "id": "5836b24e-907f-435d-989c-61b6cb732b38",
   "metadata": {},
   "source": [
    "- LangGraph VS OpenAI Agents SDK"
   ]
  },
  {
   "cell_type": "markdown",
   "id": "ed225ae5-08cd-46c7-92f4-1fbf335222db",
   "metadata": {},
   "source": [
    "&emsp;&emsp;目前来看，OpenAI的Agents SDK最核心的优势还是在于和OpenAI的GPT系列模型深度集成，能够非常便捷的调用GPT模型的很多内置工具（如网络搜索、RAG、Computer use等），并且上手难度非常低，能够非常简单的完成Agent创建。因此如果是GPT模型开发者，Agents SDK还是非常合适的。"
   ]
  },
  {
   "cell_type": "markdown",
   "id": "f10698d4-9e0b-450d-aea0-3cd76345383b",
   "metadata": {},
   "source": [
    "&emsp;&emsp;但Agents SDK本身并不能算是企业级的Agent开发框架，其很多功能设计较为简单，且稳定性不足，因此Agents SDK更加适用于小规模智能体功能探索或前期demo开发或者用于科研性质的智能体开发。"
   ]
  },
  {
   "cell_type": "markdown",
   "id": "c611f698-d42d-40bb-884a-b835bdbc601d",
   "metadata": {},
   "source": [
    "- LangGraph VS 谷歌ADK"
   ]
  },
  {
   "cell_type": "markdown",
   "id": "0c9c278a-97cc-44f4-b9f5-ef4c4822aa65",
   "metadata": {},
   "source": [
    "&emsp;&emsp;相比OpenAI的Agents SDK，谷歌的ADK功能更加丰富、运行更加稳定，并且谷歌ADK也提供了调试前端UI页面以及智能体运行追踪等功能，同时支持一键部署上线，因此尽管ADK上手难度更高，但确实是目前能够用于企业级Agent开发的框架。"
   ]
  },
  {
   "cell_type": "markdown",
   "id": "c15ad51d-d080-4e23-9d93-9a46de580435",
   "metadata": {},
   "source": [
    "&emsp;&emsp;但相比LangGraph，谷歌ADK起步时间较晚，很多功能细节丰富程度不如LangGraph，并且内置工具也远不如LangChain更加丰富。但ADK的优势在于和Gemini多模态功能深度适配，可以说是原生的多模态Agent开发框架，原生就支持图像、文本、音频等多模态交互功能，并且和谷歌云在线API深度集成，可以直接调用谷歌云API（例如谷歌云盘、谷歌邮箱API、谷歌搜索等）来完成智能体开发。并且由于ADK采用了和LangGraph完全不同的设计思路，具体何种思路会在未来的竞争中胜出犹未可知。"
   ]
  },
  {
   "cell_type": "markdown",
   "id": "64fa53f4-2563-409e-ab59-dac4e41bdd2c",
   "metadata": {},
   "source": [
    "&emsp;&emsp;因此，就目前来看，我们推荐的适用于企业级应用的Agent框架学习路线是`LangChain&LangGraph`>`ADK`>`Agents SDK`。而如果是出于科研目的，或者前期希望进行一些尽量快速的尝试和探索，并不考虑工业环境部署上线，则优先推荐`Agents SDK`。"
   ]
  },
  {
   "cell_type": "markdown",
   "id": "6ad124b3-49a1-47bf-ad9e-652b96462c40",
   "metadata": {},
   "source": [
    "### 4. LangGraph最佳学习路线与本期公开课大纲"
   ]
  },
  {
   "cell_type": "markdown",
   "id": "12fdc5ed-64c3-4651-a6ca-f93b9fc2c819",
   "metadata": {},
   "source": [
    "&emsp;&emsp;虽然从技术架构的角度来说，是`LangGraph图结构语法`—>`Agent Node API`—>`预构建的Agent API`，但对于学习者来说，更推荐反过来的学习顺序，也就是`预构建的Agent API`—>`Agent Node API`—>`LangGraph图结构语法`，这也是本期公开课的内容顺序。"
   ]
  },
  {
   "cell_type": "markdown",
   "id": "3972c8be-a089-4781-a4a9-dbe458ba2593",
   "metadata": {},
   "source": [
    "## 二、从零构建LangGraph智能体"
   ]
  },
  {
   "cell_type": "markdown",
   "id": "bd420c8a-8091-4cba-a963-35816b708c98",
   "metadata": {},
   "source": [
    "### 1. LangGraph接入大模型流程"
   ]
  },
  {
   "cell_type": "markdown",
   "id": "8d16e5a7-30b3-471b-bffe-e9a917a29db2",
   "metadata": {},
   "source": [
    "- LangGraph安装"
   ]
  },
  {
   "cell_type": "markdown",
   "id": "e3dbe0ba-9fca-4309-8186-ce44ad69c598",
   "metadata": {},
   "source": [
    "&emsp;&emsp;本次公开课使用的版本是：`langgraph==0.4.8`"
   ]
  },
  {
   "cell_type": "markdown",
   "id": "7b031863-7fcc-4e5b-a440-190d2112ae17",
   "metadata": {},
   "source": [
    "- LangGraph接入DeepSeek模型流程"
   ]
  },
  {
   "cell_type": "markdown",
   "id": "b32f7a55-2d49-4b0c-ac68-00c405080f2c",
   "metadata": {},
   "source": [
    "&emsp;&emsp;接下来以DeepSeek为例，介绍LangGraph接入大模型流程。"
   ]
  },
  {
   "cell_type": "code",
   "id": "37b2f1b6-464d-45d9-870f-73af2b9361c0",
   "metadata": {
    "ExecuteTime": {
     "end_time": "2025-09-07T06:35:04.449281Z",
     "start_time": "2025-09-07T06:35:04.429844Z"
    }
   },
   "source": [
    "import os\n",
    "from dotenv import load_dotenv\n",
    "load_dotenv(dotenv_path=\"../../.env\", override=True)\n",
    "DeepSeek_API_KEY = os.getenv(\"DEEPSEEK_API_KEY\")\n",
    "print(DeepSeek_API_KEY)  # 可以通过打印查看"
   ],
   "outputs": [
    {
     "name": "stdout",
     "output_type": "stream",
     "text": [
      "sk-be55f7df0a114daea9d8d16d7d88d605\n"
     ]
    }
   ],
   "execution_count": 2
  },
  {
   "cell_type": "code",
   "id": "1fd361fe-c450-4100-a94a-9fb7aa414c28",
   "metadata": {
    "ExecuteTime": {
     "end_time": "2025-09-07T06:35:16.207337Z",
     "start_time": "2025-09-07T06:35:08.898120Z"
    }
   },
   "source": [
    "from openai import OpenAI\n",
    "\n",
    "# 初始化DeepSeek的API客户端\n",
    "client = OpenAI(api_key=DeepSeek_API_KEY, base_url=\"https://api.deepseek.com\")\n",
    "\n",
    "# 调用DeepSeek的API，生成回答\n",
    "response = client.chat.completions.create(\n",
    "    model=\"deepseek-chat\",\n",
    "    messages=[\n",
    "        {\"role\": \"system\", \"content\": \"你是乐于助人的助手，请根据用户的问题给出回答\"},\n",
    "        {\"role\": \"user\", \"content\": \"你好，请你介绍一下你自己。\"},\n",
    "    ],\n",
    ")\n",
    "\n",
    "# 打印模型最终的响应结果\n",
    "print(response.choices[0].message.content)"
   ],
   "outputs": [
    {
     "name": "stdout",
     "output_type": "stream",
     "text": [
      "你好！我是一个AI助手，专注于提供信息、解答问题和协助完成各种任务。我具备广泛的知识，可以帮你查询资料、提供建议、生成文本、翻译语言，甚至进行简单的编程和数据分析。我的目标是高效、准确地满足你的需求，同时保持友好和专业的交流方式。如果有任何问题或需要帮助的地方，随时告诉我！ 😊\n"
     ]
    }
   ],
   "execution_count": 3
  },
  {
   "cell_type": "markdown",
   "id": "18955363-bd88-4c8b-b810-7a405279c36d",
   "metadata": {},
   "source": [
    "&emsp;&emsp;接下来我们要考虑的是，对于这样一个`DeepSeek`官方的`API`，如何接入到`LangGraph`中呢？其实非常简单，我们只需要使用`LangChain`中的一个`DeepSeek`组件即可向像述代码一样，直接使用相同的`DeepSeek API KEY`与大模型进行交互。因此，我们首先需要安装`LangChain`的`DeepSeek`组件，安装命令如下："
   ]
  },
  {
   "cell_type": "markdown",
   "id": "8ea61173-09f1-4348-b000-f2c65bafc2bb",
   "metadata": {},
   "source": [
    "&emsp;&emsp;安装好`LangChain`集成`DeepSeek`模型的依赖包后，需要通过一个`init_chat_model`函数来初始化大模型，代码如下："
   ]
  },
  {
   "cell_type": "code",
   "id": "d5c6be2d-8816-4d5a-8862-1504d66d93ad",
   "metadata": {
    "ExecuteTime": {
     "end_time": "2025-09-07T06:36:12.630545Z",
     "start_time": "2025-09-07T06:36:12.296469Z"
    }
   },
   "source": [
    "from langchain.chat_models import init_chat_model\n",
    "\n",
    "model = init_chat_model(model=\"deepseek-chat\", model_provider=\"deepseek\")  "
   ],
   "outputs": [],
   "execution_count": 4
  },
  {
   "cell_type": "markdown",
   "id": "7caa6569-6ffb-4b9a-843f-4a11798123f5",
   "metadata": {},
   "source": [
    "&emsp;&emsp;其中`model`用来指定要使用的模型名称，而`model_provider`用来指定模型提供者，当写入`deepseek`时，会自动加载`langchain-deepseek`的依赖包，并使用在`model`中指定的模型名称用来进行交互。"
   ]
  },
  {
   "cell_type": "code",
   "id": "2067a1ff-477e-4a7f-a252-b2cce8f1ec0f",
   "metadata": {
    "ExecuteTime": {
     "end_time": "2025-09-07T06:36:47.246425Z",
     "start_time": "2025-09-07T06:36:30.920244Z"
    }
   },
   "source": [
    "question = \"你好，请你介绍一下你自己。\"\n",
    "\n",
    "result = model.invoke(question)\n",
    "print(result.content)"
   ],
   "outputs": [
    {
     "name": "stdout",
     "output_type": "stream",
     "text": [
      "你好！我是 DeepSeek-V3，由深度求索公司打造的智能 AI 助手。我的知识截止到 2024 年 7 月，擅长回答各种问题，包括学习、编程、写作、办公、生活等多个领域。我可以帮你解答疑惑、提供创意、撰写文稿、分析数据，甚至陪你聊天，帮助你提高效率和获取信息！🎯\n",
      "\n",
      "我是免费的，目前没有语音功能，但支持文本交互，并且可以读取并分析上传的文件（如 PDF、Word、Excel、PPT、TXT 等）。如果你有任何问题，随时问我吧！😊\n"
     ]
    }
   ],
   "execution_count": 7
  },
  {
   "cell_type": "code",
   "id": "0f71cb9c-cc7a-4127-9154-a304110fab04",
   "metadata": {
    "ExecuteTime": {
     "end_time": "2025-09-07T06:36:50.629490Z",
     "start_time": "2025-09-07T06:36:50.621666Z"
    }
   },
   "source": [
    "result"
   ],
   "outputs": [
    {
     "data": {
      "text/plain": [
       "AIMessage(content='你好！我是 DeepSeek-V3，由深度求索公司打造的智能 AI 助手。我的知识截止到 2024 年 7 月，擅长回答各种问题，包括学习、编程、写作、办公、生活等多个领域。我可以帮你解答疑惑、提供创意、撰写文稿、分析数据，甚至陪你聊天，帮助你提高效率和获取信息！🎯\\n\\n我是免费的，目前没有语音功能，但支持文本交互，并且可以读取并分析上传的文件（如 PDF、Word、Excel、PPT、TXT 等）。如果你有任何问题，随时问我吧！😊', additional_kwargs={'refusal': None, 'reasoning_content': '唔，用户让我介绍一下自己，这是一个很常见的开场问题。需要简洁明了地说明我的身份、功能和特点，让用户快速了解我能提供什么帮助。\\n\\n可以用轻松友好的语气开头，先打招呼，然后说明我是DeepSeek-V3，由深度求索公司创造。接着列举我能做的事情，比如回答问题、解决逻辑问题、处理文本和文件等。再提一下我的知识截止时间和上下文长度，让用户知道我的能力范围。最后提到我是免费的，并鼓励用户随时提问，保持开放和友好的态度。\\n\\n注意避免过于技术化的描述，用通俗易懂的语言，让用户感觉亲切和可靠。'}, response_metadata={'token_usage': {'completion_tokens': 254, 'prompt_tokens': 10, 'total_tokens': 264, 'completion_tokens_details': {'accepted_prediction_tokens': None, 'audio_tokens': None, 'reasoning_tokens': 129, 'rejected_prediction_tokens': None}, 'prompt_tokens_details': {'audio_tokens': None, 'cached_tokens': 0}, 'prompt_cache_hit_tokens': 0, 'prompt_cache_miss_tokens': 10}, 'model_name': 'deepseek-reasoner', 'system_fingerprint': 'fp_08f168e49b_prod0820_fp8_kvcache', 'id': '7fa197d7-1821-460e-b036-9269b6bedae5', 'service_tier': None, 'finish_reason': 'stop', 'logprobs': None}, id='run--3185830d-f3c6-4f99-95a5-4d6e4461be89-0', usage_metadata={'input_tokens': 10, 'output_tokens': 254, 'total_tokens': 264, 'input_token_details': {'cache_read': 0}, 'output_token_details': {'reasoning': 129}})"
      ]
     },
     "execution_count": 8,
     "metadata": {},
     "output_type": "execute_result"
    }
   ],
   "execution_count": 8
  },
  {
   "cell_type": "code",
   "id": "8c59ef79-2215-4cb5-8b77-80aa9213b767",
   "metadata": {
    "ExecuteTime": {
     "end_time": "2025-09-07T06:37:08.844954Z",
     "start_time": "2025-09-07T06:36:52.692512Z"
    }
   },
   "source": [
    "model = init_chat_model(model=\"deepseek-reasoner\", model_provider=\"deepseek\")  \n",
    "\n",
    "result = model.invoke(question)\n",
    "print(result.content)"
   ],
   "outputs": [
    {
     "name": "stdout",
     "output_type": "stream",
     "text": [
      "你好呀！我是 DeepSeek-V3，由深度求索公司打造的智能 AI 助手。我擅长回答各种问题，包括学习、编程、写作、办公、生活等多个领域。我可以帮你解答疑惑、提供创意、撰写文稿、分析数据，甚至是陪你聊天，帮助你提高效率和获取信息！🎯\n",
      "\n",
      "我是免费的！目前无需付费，你可以随时来找我交流。我还支持超长上下文（128K），所以不用担心我“忘记”之前的对话内容。另外，我也可以读取并分析上传的 PDF、Word、Excel、PPT 等文件，帮助你提取关键信息。\n",
      "\n",
      "如果你有任何问题，尽管问我吧！我会尽力帮助你～ 😊\n"
     ]
    }
   ],
   "execution_count": 9
  },
  {
   "cell_type": "code",
   "id": "1ad9c41d-7db5-4ac9-ae6b-4ec48e3dff3f",
   "metadata": {
    "ExecuteTime": {
     "end_time": "2025-09-07T06:37:08.938535Z",
     "start_time": "2025-09-07T06:37:08.933980Z"
    }
   },
   "source": [
    "result.additional_kwargs"
   ],
   "outputs": [
    {
     "data": {
      "text/plain": [
       "{'refusal': None,\n",
       " 'reasoning_content': '唔，用户让我介绍一下自己，这是一个很常见的开场问题。需要简洁明了地说明我的身份、功能和特点，让用户快速了解我能提供什么帮助。\\n\\n想到了可以从几个方面来介绍：先说明我是谁和我的开发者，再列举我能做的事情，比如解答问题、写作辅助等，然后强调我的优势，比如免费、长上下文支持等，最后表达友好态度邀请用户提问。\\n\\n用轻松友好的语气比较合适，可以加个表情符号增加亲和力。不需要说太多技术细节，重点突出实用性和易用性。'}"
      ]
     },
     "execution_count": 10,
     "metadata": {},
     "output_type": "execute_result"
    }
   ],
   "execution_count": 10
  },
  {
   "cell_type": "code",
   "id": "2a3eba39-ff36-45c1-af5b-e3696c6e6ce1",
   "metadata": {
    "ExecuteTime": {
     "end_time": "2025-09-07T06:37:11.214736Z",
     "start_time": "2025-09-07T06:37:11.209453Z"
    }
   },
   "source": [
    "result.additional_kwargs['reasoning_content']"
   ],
   "outputs": [
    {
     "data": {
      "text/plain": [
       "'唔，用户让我介绍一下自己，这是一个很常见的开场问题。需要简洁明了地说明我的身份、功能和特点，让用户快速了解我能提供什么帮助。\\n\\n想到了可以从几个方面来介绍：先说明我是谁和我的开发者，再列举我能做的事情，比如解答问题、写作辅助等，然后强调我的优势，比如免费、长上下文支持等，最后表达友好态度邀请用户提问。\\n\\n用轻松友好的语气比较合适，可以加个表情符号增加亲和力。不需要说太多技术细节，重点突出实用性和易用性。'"
      ]
     },
     "execution_count": 11,
     "metadata": {},
     "output_type": "execute_result"
    }
   ],
   "execution_count": 11
  },
  {
   "cell_type": "markdown",
   "id": "701b7202-8242-4b7a-8f05-1ab4ba46aefb",
   "metadata": {},
   "source": [
    "&emsp;&emsp;这里可以看到，仅仅通过两行代码，我们便可以在`LangChain`中顺利调用`DeepSeek`模型，并得到模型的响应结果。相较于使用`DeepSeek`的`API`，使用`LangChain`调用模型无疑是更加简单的。同时，不仅仅是`DeepSeek`模型，`LangChain`还支持其他很多大模型，如`OpenAI`、`Qwen`、`Gemini`等，我们只需要在`init_chat_model`函数中指定不同的模型名称，就可以调用不同的模型。其工作的原理是这样的："
   ]
  },
  {
   "cell_type": "markdown",
   "id": "79f6dc3d-0a6c-4667-a4e1-0a05f7780160",
   "metadata": {},
   "source": [
    "<div align=center><img src=\"https://muyu20241105.oss-cn-beijing.aliyuncs.com/images/202506091353369.png\" width=60%></div>"
   ]
  },
  {
   "cell_type": "markdown",
   "id": "ef4a56d8-2a5a-466b-8630-14ab198721ac",
   "metadata": {},
   "source": [
    "&emsp;&emsp;理解了这个基本原理，如果大家想在用`LangGraph`进行开发时使用其他大模型如`Qwen3`系列，则只需要先获取到`Qwen3`模型的`API_KEY`，然后安装`Tongyi Qwen`的第三方依赖包，即可同样通过`init_chat_model`函数来初始化模型，并调用`invoke`方法来得到模型的响应结果。关于`LangChain`都支持哪些大模型以及每个模型对应的是哪个第三方依赖包，大家可以在`LangChain`的官方文档中找到，访问链接为：https://python.langchain.com/docs/integrations/chat/"
   ]
  },
  {
   "cell_type": "markdown",
   "id": "a71190a4-f584-460d-b8d0-1de6538680d2",
   "metadata": {},
   "source": [
    "<div align=center><img src=\"https://muyu20241105.oss-cn-beijing.aliyuncs.com/images/202506091359607.png\" width=60%></div>"
   ]
  },
  {
   "cell_type": "markdown",
   "id": "88018c3d-63ee-4c05-b3c3-9d6345d7650e",
   "metadata": {},
   "source": [
    "更多关于LangChain&LangGraph接入各类大模型的基本流程，可以参考LangChain公开课相关资料，本节公开课不再赘述。"
   ]
  },
  {
   "cell_type": "markdown",
   "id": "4038074b-22fc-4826-b3ca-5fda267f1e71",
   "metadata": {},
   "source": [
    "<center><img src=\"https://ml2022.oss-cn-hangzhou.aliyuncs.com/img/image-20250626163213821.png\" alt=\"image-20250626163213821\" style=\"zoom:33%;\" />"
   ]
  },
  {
   "cell_type": "markdown",
   "id": "d30513dd-b2fb-4cfe-9a56-9d537b29e642",
   "metadata": {},
   "source": [
    "### 2. 借助预构建的智能体API快速创建LangGraph智能体"
   ]
  },
  {
   "cell_type": "markdown",
   "id": "531d9287-72ed-4b8e-a282-b9bf8a9ca878",
   "metadata": {},
   "source": [
    "&emsp;&emsp;正如开篇所说，我们先尝试用最高层的API快速构建智能体，然后在后续的课程讲解中，将逐渐深入到其背后的底层原理及更底层的API进行讲解。"
   ]
  },
  {
   "cell_type": "markdown",
   "id": "4b1d9c60-5244-4c1c-8e8e-92ff0756f8b4",
   "metadata": {},
   "source": [
    "<center><img src=\"https://ml2022.oss-cn-hangzhou.aliyuncs.com/img/image-20250626123848784.png\" alt=\"image-20250626123848784\" style=\"zoom:33%;\" />"
   ]
  },
  {
   "cell_type": "markdown",
   "id": "dc885cf2-dfad-4da2-9112-2321620443c6",
   "metadata": {},
   "source": [
    "&emsp;&emsp;在LangGraph所有的顶层API中，最常见的预构建智能体API就是`create_react_agent`，借助该API，开发者仅需将大模型、工具和提示词模板（可选）以参数形式带入，即可快速创建一个拥有完整功能、并且能够串联并联调用多个外部工具的智能体。"
   ]
  },
  {
   "cell_type": "markdown",
   "id": "988281d5-eb7b-42c0-ac8b-42b1ef5694ac",
   "metadata": {},
   "source": [
    "- 创建自定义工具"
   ]
  },
  {
   "cell_type": "code",
   "id": "c12ab6f4-c9a8-4da0-a5d6-ad1096d3737e",
   "metadata": {
    "ExecuteTime": {
     "end_time": "2025-09-10T15:06:25.477798Z",
     "start_time": "2025-09-10T15:06:25.471222Z"
    }
   },
   "source": [
    "import requests,json\n",
    "import os\n",
    "from dotenv import load_dotenv\n",
    "load_dotenv(dotenv_path=\"../../.env\", override=True)"
   ],
   "outputs": [
    {
     "data": {
      "text/plain": [
       "True"
      ]
     },
     "execution_count": 2,
     "metadata": {},
     "output_type": "execute_result"
    }
   ],
   "execution_count": 2
  },
  {
   "cell_type": "code",
   "id": "072cde06-44ff-4a3b-b26f-63925c616127",
   "metadata": {
    "ExecuteTime": {
     "end_time": "2025-09-10T15:06:26.996090Z",
     "start_time": "2025-09-10T15:06:26.985019Z"
    }
   },
   "source": [
    "def get_weather(loc):\n",
    "    \"\"\"\n",
    "    查询即时天气函数\n",
    "    :param loc: 必要参数，字符串类型，用于表示查询天气的具体城市名称，\\\n",
    "    注意，中国的城市需要用对应城市的英文名称代替，例如如果需要查询北京市天气，则loc参数需要输入'Beijing'；\n",
    "    :return：OpenWeather API查询即时天气的结果，具体URL请求地址为：https://api.openweathermap.org/data/2.5/weather\\\n",
    "    返回结果对象类型为解析之后的JSON格式对象，并用字符串形式进行表示，其中包含了全部重要的天气信息\n",
    "    \"\"\"\n",
    "    # # Step 1.构建请求\n",
    "    # url = \"https://api.openweathermap.org/data/2.5/weather\"\n",
    "    #\n",
    "    # # Step 2.设置查询参数\n",
    "    # params = {\n",
    "    #     \"q\": loc,\n",
    "    #     \"appid\": os.getenv(\"OPENWEATH\n",
    "    #     ER_API_KEY\"),    # 输入API key\n",
    "    #     \"units\": \"metric\",            # 使用摄氏度而不是华氏度\n",
    "    #     \"lang\":\"zh_cn\"                # 输出语言为简体中文\n",
    "    # }\n",
    "    #\n",
    "    # # Step 3.发送GET请求\n",
    "    # response = requests.get(url, params=params)\n",
    "    #\n",
    "    # # Step 4.解析响应\n",
    "    # data = response.json()\n",
    "    # return json.dumps(data)\n",
    "\n",
    "    api_key = os.getenv(\"OPENWEATHER_API_KEY\")\n",
    "\n",
    "    # Step 1: 通过城市名获取坐标\n",
    "    geo_url = \"http://api.openweathermap.org/geo/1.0/direct\"\n",
    "    geo_params = {\n",
    "        \"q\": loc,\n",
    "        \"limit\": 1,\n",
    "        \"appid\": api_key\n",
    "    }\n",
    "\n",
    "    geo_response = requests.get(geo_url, params=geo_params)\n",
    "    geo_data = geo_response.json()\n",
    "    if not geo_data:\n",
    "        return json.dumps({\"error\": f\"City not found: {loc}\"})\n",
    "\n",
    "    lat = geo_data[0][\"lat\"]\n",
    "    lon = geo_data[0][\"lon\"]\n",
    "\n",
    "    # Step 2: 使用坐标获取天气\n",
    "    weather_url = \"https://api.openweathermap.org/data/3.0/onecall\"\n",
    "    weather_params = {\n",
    "        \"lat\": lat,\n",
    "        \"lon\": lon,\n",
    "        \"appid\": api_key,\n",
    "        \"units\": \"metric\",\n",
    "        \"lang\": \"zh_cn\"\n",
    "    }\n",
    "\n",
    "    weather_response = requests.get(weather_url, params=weather_params)\n",
    "    weather_data = weather_response.json()\n",
    "\n",
    "    return json.dumps(weather_data, ensure_ascii=False)"
   ],
   "outputs": [],
   "execution_count": 3
  },
  {
   "cell_type": "code",
   "id": "9c334bfa-cc75-437b-985a-b1e36c7c6a8f",
   "metadata": {
    "ExecuteTime": {
     "end_time": "2025-09-10T15:06:33.100478Z",
     "start_time": "2025-09-10T15:06:30.610576Z"
    }
   },
   "source": [
    "get_weather(\"Beijing\")"
   ],
   "outputs": [
    {
     "data": {
      "text/plain": [
       "'{\"lat\": 39.9062, \"lon\": 116.3913, \"timezone\": \"Asia/Shanghai\", \"timezone_offset\": 28800, \"current\": {\"dt\": 1757516792, \"sunrise\": 1757454634, \"sunset\": 1757500369, \"temp\": 22.94, \"feels_like\": 23.56, \"pressure\": 1013, \"humidity\": 87, \"dew_point\": 20.66, \"uvi\": 0, \"clouds\": 31, \"visibility\": 10000, \"wind_speed\": 0.57, \"wind_deg\": 128, \"wind_gust\": 0.66, \"weather\": [{\"id\": 802, \"main\": \"Clouds\", \"description\": \"多云\", \"icon\": \"03n\"}]}, \"minutely\": [{\"dt\": 1757516820, \"precipitation\": 0}, {\"dt\": 1757516880, \"precipitation\": 0}, {\"dt\": 1757516940, \"precipitation\": 0}, {\"dt\": 1757517000, \"precipitation\": 0}, {\"dt\": 1757517060, \"precipitation\": 0}, {\"dt\": 1757517120, \"precipitation\": 0}, {\"dt\": 1757517180, \"precipitation\": 0}, {\"dt\": 1757517240, \"precipitation\": 0}, {\"dt\": 1757517300, \"precipitation\": 0}, {\"dt\": 1757517360, \"precipitation\": 0}, {\"dt\": 1757517420, \"precipitation\": 0}, {\"dt\": 1757517480, \"precipitation\": 0}, {\"dt\": 1757517540, \"precipitation\": 0}, {\"dt\": 1757517600, \"precipitation\": 0}, {\"dt\": 1757517660, \"precipitation\": 0}, {\"dt\": 1757517720, \"precipitation\": 0}, {\"dt\": 1757517780, \"precipitation\": 0}, {\"dt\": 1757517840, \"precipitation\": 0}, {\"dt\": 1757517900, \"precipitation\": 0}, {\"dt\": 1757517960, \"precipitation\": 0}, {\"dt\": 1757518020, \"precipitation\": 0}, {\"dt\": 1757518080, \"precipitation\": 0}, {\"dt\": 1757518140, \"precipitation\": 0}, {\"dt\": 1757518200, \"precipitation\": 0}, {\"dt\": 1757518260, \"precipitation\": 0}, {\"dt\": 1757518320, \"precipitation\": 0}, {\"dt\": 1757518380, \"precipitation\": 0}, {\"dt\": 1757518440, \"precipitation\": 0}, {\"dt\": 1757518500, \"precipitation\": 0}, {\"dt\": 1757518560, \"precipitation\": 0}, {\"dt\": 1757518620, \"precipitation\": 0}, {\"dt\": 1757518680, \"precipitation\": 0}, {\"dt\": 1757518740, \"precipitation\": 0}, {\"dt\": 1757518800, \"precipitation\": 0}, {\"dt\": 1757518860, \"precipitation\": 0}, {\"dt\": 1757518920, \"precipitation\": 0}, {\"dt\": 1757518980, \"precipitation\": 0}, {\"dt\": 1757519040, \"precipitation\": 0}, {\"dt\": 1757519100, \"precipitation\": 0}, {\"dt\": 1757519160, \"precipitation\": 0}, {\"dt\": 1757519220, \"precipitation\": 0}, {\"dt\": 1757519280, \"precipitation\": 0}, {\"dt\": 1757519340, \"precipitation\": 0}, {\"dt\": 1757519400, \"precipitation\": 0}, {\"dt\": 1757519460, \"precipitation\": 0}, {\"dt\": 1757519520, \"precipitation\": 0}, {\"dt\": 1757519580, \"precipitation\": 0}, {\"dt\": 1757519640, \"precipitation\": 0}, {\"dt\": 1757519700, \"precipitation\": 0}, {\"dt\": 1757519760, \"precipitation\": 0}, {\"dt\": 1757519820, \"precipitation\": 0}, {\"dt\": 1757519880, \"precipitation\": 0}, {\"dt\": 1757519940, \"precipitation\": 0}, {\"dt\": 1757520000, \"precipitation\": 0}, {\"dt\": 1757520060, \"precipitation\": 0}, {\"dt\": 1757520120, \"precipitation\": 0}, {\"dt\": 1757520180, \"precipitation\": 0}, {\"dt\": 1757520240, \"precipitation\": 0}, {\"dt\": 1757520300, \"precipitation\": 0}, {\"dt\": 1757520360, \"precipitation\": 0}], \"hourly\": [{\"dt\": 1757516400, \"temp\": 22.94, \"feels_like\": 23.56, \"pressure\": 1013, \"humidity\": 87, \"dew_point\": 20.66, \"uvi\": 0, \"clouds\": 31, \"visibility\": 10000, \"wind_speed\": 0.57, \"wind_deg\": 128, \"wind_gust\": 0.66, \"weather\": [{\"id\": 802, \"main\": \"Clouds\", \"description\": \"多云\", \"icon\": \"03n\"}], \"pop\": 0.02}, {\"dt\": 1757520000, \"temp\": 22.95, \"feels_like\": 23.57, \"pressure\": 1013, \"humidity\": 87, \"dew_point\": 20.67, \"uvi\": 0, \"clouds\": 29, \"visibility\": 10000, \"wind_speed\": 0.54, \"wind_deg\": 125, \"wind_gust\": 0.74, \"weather\": [{\"id\": 802, \"main\": \"Clouds\", \"description\": \"多云\", \"icon\": \"03n\"}], \"pop\": 0}, {\"dt\": 1757523600, \"temp\": 22.81, \"feels_like\": 23.42, \"pressure\": 1013, \"humidity\": 87, \"dew_point\": 20.53, \"uvi\": 0, \"clouds\": 25, \"visibility\": 10000, \"wind_speed\": 0.78, \"wind_deg\": 138, \"wind_gust\": 1.24, \"weather\": [{\"id\": 802, \"main\": \"Clouds\", \"description\": \"多云\", \"icon\": \"03n\"}], \"pop\": 0}, {\"dt\": 1757527200, \"temp\": 22.45, \"feels_like\": 23.02, \"pressure\": 1013, \"humidity\": 87, \"dew_point\": 20.18, \"uvi\": 0, \"clouds\": 20, \"visibility\": 10000, \"wind_speed\": 1.03, \"wind_deg\": 109, \"wind_gust\": 1.64, \"weather\": [{\"id\": 801, \"main\": \"Clouds\", \"description\": \"晴，少云\", \"icon\": \"02n\"}], \"pop\": 0}, {\"dt\": 1757530800, \"temp\": 22.05, \"feels_like\": 22.58, \"pressure\": 1013, \"humidity\": 87, \"dew_point\": 19.79, \"uvi\": 0, \"clouds\": 7, \"visibility\": 10000, \"wind_speed\": 0.89, \"wind_deg\": 96, \"wind_gust\": 1.41, \"weather\": [{\"id\": 800, \"main\": \"Clear\", \"description\": \"晴\", \"icon\": \"01n\"}], \"pop\": 0}, {\"dt\": 1757534400, \"temp\": 21.49, \"feels_like\": 21.99, \"pressure\": 1013, \"humidity\": 88, \"dew_point\": 19.23, \"uvi\": 0, \"clouds\": 42, \"visibility\": 10000, \"wind_speed\": 0.95, \"wind_deg\": 102, \"wind_gust\": 1.57, \"weather\": [{\"id\": 802, \"main\": \"Clouds\", \"description\": \"多云\", \"icon\": \"03n\"}], \"pop\": 0}, {\"dt\": 1757538000, \"temp\": 20.91, \"feels_like\": 21.35, \"pressure\": 1014, \"humidity\": 88, \"dew_point\": 18.91, \"uvi\": 0, \"clouds\": 51, \"visibility\": 10000, \"wind_speed\": 0.97, \"wind_deg\": 92, \"wind_gust\": 1.54, \"weather\": [{\"id\": 803, \"main\": \"Clouds\", \"description\": \"多云\", \"icon\": \"04n\"}], \"pop\": 0}, {\"dt\": 1757541600, \"temp\": 20.58, \"feels_like\": 21.02, \"pressure\": 1014, \"humidity\": 89, \"dew_point\": 18.69, \"uvi\": 0, \"clouds\": 60, \"visibility\": 10000, \"wind_speed\": 0.76, \"wind_deg\": 88, \"wind_gust\": 0.96, \"weather\": [{\"id\": 803, \"main\": \"Clouds\", \"description\": \"多云\", \"icon\": \"04d\"}], \"pop\": 0}, {\"dt\": 1757545200, \"temp\": 21.34, \"feels_like\": 21.75, \"pressure\": 1015, \"humidity\": 85, \"dew_point\": 18.78, \"uvi\": 0.18, \"clouds\": 56, \"visibility\": 10000, \"wind_speed\": 0.74, \"wind_deg\": 102, \"wind_gust\": 0.91, \"weather\": [{\"id\": 803, \"main\": \"Clouds\", \"description\": \"多云\", \"icon\": \"04d\"}], \"pop\": 0}, {\"dt\": 1757548800, \"temp\": 22.75, \"feels_like\": 23.12, \"pressure\": 1014, \"humidity\": 78, \"dew_point\": 18.83, \"uvi\": 0.67, \"clouds\": 62, \"visibility\": 10000, \"wind_speed\": 0.66, \"wind_deg\": 132, \"wind_gust\": 1.14, \"weather\": [{\"id\": 803, \"main\": \"Clouds\", \"description\": \"多云\", \"icon\": \"04d\"}], \"pop\": 0}, {\"dt\": 1757552400, \"temp\": 24.72, \"feels_like\": 25.02, \"pressure\": 1014, \"humidity\": 68, \"dew_point\": 18.6, \"uvi\": 1.84, \"clouds\": 72, \"visibility\": 10000, \"wind_speed\": 1.39, \"wind_deg\": 156, \"wind_gust\": 2.52, \"weather\": [{\"id\": 803, \"main\": \"Clouds\", \"description\": \"多云\", \"icon\": \"04d\"}], \"pop\": 0}, {\"dt\": 1757556000, \"temp\": 26.73, \"feels_like\": 27.63, \"pressure\": 1014, \"humidity\": 58, \"dew_point\": 18.02, \"uvi\": 3.56, \"clouds\": 88, \"visibility\": 10000, \"wind_speed\": 2.21, \"wind_deg\": 174, \"wind_gust\": 4.54, \"weather\": [{\"id\": 804, \"main\": \"Clouds\", \"description\": \"阴，多云\", \"icon\": \"04d\"}], \"pop\": 0}, {\"dt\": 1757559600, \"temp\": 28.62, \"feels_like\": 29.18, \"pressure\": 1014, \"humidity\": 50, \"dew_point\": 17.29, \"uvi\": 4.95, \"clouds\": 67, \"visibility\": 10000, \"wind_speed\": 3.78, \"wind_deg\": 192, \"wind_gust\": 6.57, \"weather\": [{\"id\": 803, \"main\": \"Clouds\", \"description\": \"多云\", \"icon\": \"04d\"}], \"pop\": 0}, {\"dt\": 1757563200, \"temp\": 29.22, \"feels_like\": 29.82, \"pressure\": 1013, \"humidity\": 49, \"dew_point\": 17.24, \"uvi\": 4.93, \"clouds\": 52, \"visibility\": 10000, \"wind_speed\": 4.6, \"wind_deg\": 185, \"wind_gust\": 6.75, \"weather\": [{\"id\": 803, \"main\": \"Clouds\", \"description\": \"多云\", \"icon\": \"04d\"}], \"pop\": 0}, {\"dt\": 1757566800, \"temp\": 29.72, \"feels_like\": 30.36, \"pressure\": 1013, \"humidity\": 48, \"dew_point\": 17.43, \"uvi\": 5.94, \"clouds\": 44, \"visibility\": 10000, \"wind_speed\": 4.58, \"wind_deg\": 191, \"wind_gust\": 7.1, \"weather\": [{\"id\": 802, \"main\": \"Clouds\", \"description\": \"多云\", \"icon\": \"03d\"}], \"pop\": 0}, {\"dt\": 1757570400, \"temp\": 29.86, \"feels_like\": 30.41, \"pressure\": 1011, \"humidity\": 47, \"dew_point\": 17.32, \"uvi\": 4.67, \"clouds\": 53, \"visibility\": 10000, \"wind_speed\": 5.16, \"wind_deg\": 193, \"wind_gust\": 7.65, \"weather\": [{\"id\": 803, \"main\": \"Clouds\", \"description\": \"多云\", \"icon\": \"04d\"}], \"pop\": 0}, {\"dt\": 1757574000, \"temp\": 29.88, \"feels_like\": 30.43, \"pressure\": 1011, \"humidity\": 47, \"dew_point\": 17.47, \"uvi\": 3.06, \"clouds\": 21, \"visibility\": 10000, \"wind_speed\": 5.83, \"wind_deg\": 198, \"wind_gust\": 8.32, \"weather\": [{\"id\": 801, \"main\": \"Clouds\", \"description\": \"晴，少云\", \"icon\": \"02d\"}], \"pop\": 0}, {\"dt\": 1757577600, \"temp\": 28.88, \"feels_like\": 29.75, \"pressure\": 1010, \"humidity\": 52, \"dew_point\": 18.14, \"uvi\": 1.43, \"clouds\": 61, \"visibility\": 10000, \"wind_speed\": 5.37, \"wind_deg\": 197, \"wind_gust\": 9.12, \"weather\": [{\"id\": 803, \"main\": \"Clouds\", \"description\": \"多云\", \"icon\": \"04d\"}], \"pop\": 0}, {\"dt\": 1757581200, \"temp\": 28.44, \"feels_like\": 29.62, \"pressure\": 1010, \"humidity\": 56, \"dew_point\": 18.71, \"uvi\": 0.52, \"clouds\": 74, \"visibility\": 10000, \"wind_speed\": 4.7, \"wind_deg\": 208, \"wind_gust\": 10.37, \"weather\": [{\"id\": 803, \"main\": \"Clouds\", \"description\": \"多云\", \"icon\": \"04d\"}], \"pop\": 0}, {\"dt\": 1757584800, \"temp\": 27.28, \"feels_like\": 28.44, \"pressure\": 1010, \"humidity\": 60, \"dew_point\": 18.76, \"uvi\": 0.07, \"clouds\": 80, \"visibility\": 10000, \"wind_speed\": 4.25, \"wind_deg\": 204, \"wind_gust\": 9.4, \"weather\": [{\"id\": 803, \"main\": \"Clouds\", \"description\": \"多云\", \"icon\": \"04d\"}], \"pop\": 0}, {\"dt\": 1757588400, \"temp\": 26.48, \"feels_like\": 26.48, \"pressure\": 1011, \"humidity\": 64, \"dew_point\": 19.16, \"uvi\": 0, \"clouds\": 84, \"visibility\": 10000, \"wind_speed\": 3.11, \"wind_deg\": 191, \"wind_gust\": 8.47, \"weather\": [{\"id\": 803, \"main\": \"Clouds\", \"description\": \"多云\", \"icon\": \"04n\"}], \"pop\": 0}, {\"dt\": 1757592000, \"temp\": 25.97, \"feels_like\": 25.97, \"pressure\": 1012, \"humidity\": 66, \"dew_point\": 19.17, \"uvi\": 0, \"clouds\": 87, \"visibility\": 10000, \"wind_speed\": 3.49, \"wind_deg\": 192, \"wind_gust\": 10.34, \"weather\": [{\"id\": 804, \"main\": \"Clouds\", \"description\": \"阴，多云\", \"icon\": \"04n\"}], \"pop\": 0}, {\"dt\": 1757595600, \"temp\": 25.5, \"feels_like\": 25.8, \"pressure\": 1012, \"humidity\": 65, \"dew_point\": 18.6, \"uvi\": 0, \"clouds\": 99, \"visibility\": 10000, \"wind_speed\": 3.39, \"wind_deg\": 190, \"wind_gust\": 8.5, \"weather\": [{\"id\": 804, \"main\": \"Clouds\", \"description\": \"阴，多云\", \"icon\": \"04n\"}], \"pop\": 0}, {\"dt\": 1757599200, \"temp\": 24.95, \"feels_like\": 25.07, \"pressure\": 1012, \"humidity\": 60, \"dew_point\": 16.74, \"uvi\": 0, \"clouds\": 99, \"visibility\": 10000, \"wind_speed\": 4.21, \"wind_deg\": 195, \"wind_gust\": 10.09, \"weather\": [{\"id\": 804, \"main\": \"Clouds\", \"description\": \"阴，多云\", \"icon\": \"04n\"}], \"pop\": 0}, {\"dt\": 1757602800, \"temp\": 24.16, \"feels_like\": 24.12, \"pressure\": 1012, \"humidity\": 57, \"dew_point\": 15.24, \"uvi\": 0, \"clouds\": 100, \"visibility\": 10000, \"wind_speed\": 3.92, \"wind_deg\": 199, \"wind_gust\": 10.49, \"weather\": [{\"id\": 804, \"main\": \"Clouds\", \"description\": \"阴，多云\", \"icon\": \"04n\"}], \"pop\": 0}, {\"dt\": 1757606400, \"temp\": 23.54, \"feels_like\": 23.44, \"pressure\": 1012, \"humidity\": 57, \"dew_point\": 14.7, \"uvi\": 0, \"clouds\": 100, \"visibility\": 10000, \"wind_speed\": 3.2, \"wind_deg\": 198, \"wind_gust\": 8.55, \"weather\": [{\"id\": 804, \"main\": \"Clouds\", \"description\": \"阴，多云\", \"icon\": \"04n\"}], \"pop\": 0}, {\"dt\": 1757610000, \"temp\": 23.1, \"feels_like\": 22.98, \"pressure\": 1012, \"humidity\": 58, \"dew_point\": 14.5, \"uvi\": 0, \"clouds\": 100, \"visibility\": 10000, \"wind_speed\": 2.26, \"wind_deg\": 195, \"wind_gust\": 5.54, \"weather\": [{\"id\": 804, \"main\": \"Clouds\", \"description\": \"阴，多云\", \"icon\": \"04n\"}], \"pop\": 0}, {\"dt\": 1757613600, \"temp\": 22.72, \"feels_like\": 22.59, \"pressure\": 1011, \"humidity\": 59, \"dew_point\": 14.37, \"uvi\": 0, \"clouds\": 100, \"visibility\": 10000, \"wind_speed\": 1.52, \"wind_deg\": 175, \"wind_gust\": 3.19, \"weather\": [{\"id\": 804, \"main\": \"Clouds\", \"description\": \"阴，多云\", \"icon\": \"04n\"}], \"pop\": 0}, {\"dt\": 1757617200, \"temp\": 22.49, \"feels_like\": 22.34, \"pressure\": 1011, \"humidity\": 59, \"dew_point\": 14.34, \"uvi\": 0, \"clouds\": 100, \"visibility\": 10000, \"wind_speed\": 1.13, \"wind_deg\": 145, \"wind_gust\": 2.61, \"weather\": [{\"id\": 804, \"main\": \"Clouds\", \"description\": \"阴，多云\", \"icon\": \"04n\"}], \"pop\": 0}, {\"dt\": 1757620800, \"temp\": 22.07, \"feels_like\": 21.87, \"pressure\": 1011, \"humidity\": 59, \"dew_point\": 14.01, \"uvi\": 0, \"clouds\": 100, \"visibility\": 10000, \"wind_speed\": 1.12, \"wind_deg\": 144, \"wind_gust\": 2.76, \"weather\": [{\"id\": 804, \"main\": \"Clouds\", \"description\": \"阴，多云\", \"icon\": \"04n\"}], \"pop\": 0}, {\"dt\": 1757624400, \"temp\": 21.83, \"feels_like\": 21.64, \"pressure\": 1010, \"humidity\": 60, \"dew_point\": 13.8, \"uvi\": 0, \"clouds\": 100, \"visibility\": 10000, \"wind_speed\": 0.75, \"wind_deg\": 121, \"wind_gust\": 2.24, \"weather\": [{\"id\": 804, \"main\": \"Clouds\", \"description\": \"阴，多云\", \"icon\": \"04n\"}], \"pop\": 0}, {\"dt\": 1757628000, \"temp\": 21.46, \"feels_like\": 21.25, \"pressure\": 1011, \"humidity\": 61, \"dew_point\": 13.81, \"uvi\": 0, \"clouds\": 100, \"visibility\": 10000, \"wind_speed\": 0.53, \"wind_deg\": 146, \"wind_gust\": 1.93, \"weather\": [{\"id\": 804, \"main\": \"Clouds\", \"description\": \"阴，多云\", \"icon\": \"04d\"}], \"pop\": 0}, {\"dt\": 1757631600, \"temp\": 21.82, \"feels_like\": 21.65, \"pressure\": 1011, \"humidity\": 61, \"dew_point\": 14.12, \"uvi\": 0.13, \"clouds\": 100, \"visibility\": 10000, \"wind_speed\": 0.74, \"wind_deg\": 144, \"wind_gust\": 2.22, \"weather\": [{\"id\": 804, \"main\": \"Clouds\", \"description\": \"阴，多云\", \"icon\": \"04d\"}], \"pop\": 0}, {\"dt\": 1757635200, \"temp\": 22.97, \"feels_like\": 22.86, \"pressure\": 1012, \"humidity\": 59, \"dew_point\": 14.52, \"uvi\": 0.38, \"clouds\": 100, \"visibility\": 10000, \"wind_speed\": 0.11, \"wind_deg\": 236, \"wind_gust\": 1.41, \"weather\": [{\"id\": 804, \"main\": \"Clouds\", \"description\": \"阴，多云\", \"icon\": \"04d\"}], \"pop\": 0}, {\"dt\": 1757638800, \"temp\": 24.09, \"feels_like\": 24.02, \"pressure\": 1012, \"humidity\": 56, \"dew_point\": 14.91, \"uvi\": 0.89, \"clouds\": 100, \"visibility\": 10000, \"wind_speed\": 0.9, \"wind_deg\": 174, \"wind_gust\": 1.6, \"weather\": [{\"id\": 804, \"main\": \"Clouds\", \"description\": \"阴，多云\", \"icon\": \"04d\"}], \"pop\": 0}, {\"dt\": 1757642400, \"temp\": 25.09, \"feels_like\": 25.06, \"pressure\": 1012, \"humidity\": 54, \"dew_point\": 15.18, \"uvi\": 1.73, \"clouds\": 100, \"visibility\": 10000, \"wind_speed\": 1.48, \"wind_deg\": 190, \"wind_gust\": 2.49, \"weather\": [{\"id\": 804, \"main\": \"Clouds\", \"description\": \"阴，多云\", \"icon\": \"04d\"}], \"pop\": 0}, {\"dt\": 1757646000, \"temp\": 26.23, \"feels_like\": 26.23, \"pressure\": 1011, \"humidity\": 51, \"dew_point\": 15.41, \"uvi\": 2.31, \"clouds\": 100, \"visibility\": 10000, \"wind_speed\": 1.42, \"wind_deg\": 196, \"wind_gust\": 2.63, \"weather\": [{\"id\": 804, \"main\": \"Clouds\", \"description\": \"阴，多云\", \"icon\": \"04d\"}], \"pop\": 0}, {\"dt\": 1757649600, \"temp\": 27.65, \"feels_like\": 27.84, \"pressure\": 1011, \"humidity\": 47, \"dew_point\": 15.28, \"uvi\": 2.85, \"clouds\": 100, \"visibility\": 10000, \"wind_speed\": 1.82, \"wind_deg\": 188, \"wind_gust\": 2.87, \"weather\": [{\"id\": 804, \"main\": \"Clouds\", \"description\": \"阴，多云\", \"icon\": \"04d\"}], \"pop\": 0}, {\"dt\": 1757653200, \"temp\": 28.12, \"feels_like\": 28.15, \"pressure\": 1010, \"humidity\": 45, \"dew_point\": 15.18, \"uvi\": 2.81, \"clouds\": 100, \"visibility\": 10000, \"wind_speed\": 3.34, \"wind_deg\": 189, \"wind_gust\": 4.37, \"weather\": [{\"id\": 804, \"main\": \"Clouds\", \"description\": \"阴，多云\", \"icon\": \"04d\"}], \"pop\": 0}, {\"dt\": 1757656800, \"temp\": 27.89, \"feels_like\": 28, \"pressure\": 1009, \"humidity\": 46, \"dew_point\": 15.22, \"uvi\": 2.64, \"clouds\": 100, \"visibility\": 10000, \"wind_speed\": 3.69, \"wind_deg\": 183, \"wind_gust\": 4.04, \"weather\": [{\"id\": 804, \"main\": \"Clouds\", \"description\": \"阴，多云\", \"icon\": \"04d\"}], \"pop\": 0}, {\"dt\": 1757660400, \"temp\": 27.85, \"feels_like\": 27.96, \"pressure\": 1009, \"humidity\": 46, \"dew_point\": 15.2, \"uvi\": 1.99, \"clouds\": 100, \"visibility\": 10000, \"wind_speed\": 3.42, \"wind_deg\": 193, \"wind_gust\": 4.15, \"weather\": [{\"id\": 804, \"main\": \"Clouds\", \"description\": \"阴，多云\", \"icon\": \"04d\"}], \"pop\": 0}, {\"dt\": 1757664000, \"temp\": 28.15, \"feels_like\": 28.18, \"pressure\": 1008, \"humidity\": 45, \"dew_point\": 14.99, \"uvi\": 1.03, \"clouds\": 100, \"visibility\": 10000, \"wind_speed\": 3.47, \"wind_deg\": 193, \"wind_gust\": 4.56, \"weather\": [{\"id\": 804, \"main\": \"Clouds\", \"description\": \"阴，多云\", \"icon\": \"04d\"}], \"pop\": 0}, {\"dt\": 1757667600, \"temp\": 27.45, \"feels_like\": 27.72, \"pressure\": 1008, \"humidity\": 48, \"dew_point\": 15.46, \"uvi\": 0.24, \"clouds\": 100, \"visibility\": 10000, \"wind_speed\": 3.51, \"wind_deg\": 191, \"wind_gust\": 4.58, \"weather\": [{\"id\": 804, \"main\": \"Clouds\", \"description\": \"阴，多云\", \"icon\": \"04d\"}], \"pop\": 0}, {\"dt\": 1757671200, \"temp\": 26.27, \"feels_like\": 26.27, \"pressure\": 1008, \"humidity\": 55, \"dew_point\": 16.52, \"uvi\": 0.05, \"clouds\": 80, \"visibility\": 10000, \"wind_speed\": 3.05, \"wind_deg\": 180, \"wind_gust\": 5.03, \"weather\": [{\"id\": 803, \"main\": \"Clouds\", \"description\": \"多云\", \"icon\": \"04d\"}], \"pop\": 0}, {\"dt\": 1757674800, \"temp\": 24.87, \"feels_like\": 25.03, \"pressure\": 1009, \"humidity\": 62, \"dew_point\": 17.21, \"uvi\": 0, \"clouds\": 64, \"visibility\": 10000, \"wind_speed\": 2.44, \"wind_deg\": 177, \"wind_gust\": 5.29, \"weather\": [{\"id\": 803, \"main\": \"Clouds\", \"description\": \"多云\", \"icon\": \"04n\"}], \"pop\": 0}, {\"dt\": 1757678400, \"temp\": 24.11, \"feels_like\": 24.3, \"pressure\": 1009, \"humidity\": 66, \"dew_point\": 17.31, \"uvi\": 0, \"clouds\": 54, \"visibility\": 10000, \"wind_speed\": 2.59, \"wind_deg\": 166, \"wind_gust\": 5.28, \"weather\": [{\"id\": 803, \"main\": \"Clouds\", \"description\": \"多云\", \"icon\": \"04n\"}], \"pop\": 0}, {\"dt\": 1757682000, \"temp\": 23.52, \"feels_like\": 23.68, \"pressure\": 1009, \"humidity\": 67, \"dew_point\": 17.1, \"uvi\": 0, \"clouds\": 0, \"visibility\": 10000, \"wind_speed\": 1.89, \"wind_deg\": 168, \"wind_gust\": 4.07, \"weather\": [{\"id\": 800, \"main\": \"Clear\", \"description\": \"晴\", \"icon\": \"01n\"}], \"pop\": 0}, {\"dt\": 1757685600, \"temp\": 23.17, \"feels_like\": 23.32, \"pressure\": 1010, \"humidity\": 68, \"dew_point\": 17.07, \"uvi\": 0, \"clouds\": 1, \"visibility\": 10000, \"wind_speed\": 1.3, \"wind_deg\": 184, \"wind_gust\": 2.49, \"weather\": [{\"id\": 800, \"main\": \"Clear\", \"description\": \"晴\", \"icon\": \"01n\"}], \"pop\": 0}], \"daily\": [{\"dt\": 1757476800, \"sunrise\": 1757454634, \"sunset\": 1757500369, \"moonrise\": 1757504460, \"moonset\": 1757464260, \"moon_phase\": 0.59, \"summary\": \"Expect a day of partly cloudy with rain\", \"temp\": {\"day\": 27.66, \"min\": 19.57, \"max\": 28.49, \"night\": 22.94, \"eve\": 26.57, \"morn\": 19.57}, \"feels_like\": {\"day\": 28.96, \"night\": 23.56, \"eve\": 26.57, \"morn\": 19.7}, \"pressure\": 1012, \"humidity\": 60, \"dew_point\": 17.2, \"wind_speed\": 3.68, \"wind_deg\": 174, \"wind_gust\": 5.31, \"weather\": [{\"id\": 500, \"main\": \"Rain\", \"description\": \"小雨\", \"icon\": \"10d\"}], \"clouds\": 0, \"pop\": 0.9, \"rain\": 0.14, \"uvi\": 5.91}, {\"dt\": 1757563200, \"sunrise\": 1757541090, \"sunset\": 1757586670, \"moonrise\": 1757592600, \"moonset\": 1757555340, \"moon_phase\": 0.63, \"summary\": \"Expect a day of partly cloudy with clear spells\", \"temp\": {\"day\": 29.22, \"min\": 20.58, \"max\": 29.88, \"night\": 24.16, \"eve\": 27.28, \"morn\": 20.58}, \"feels_like\": {\"day\": 29.82, \"night\": 24.12, \"eve\": 28.44, \"morn\": 21.02}, \"pressure\": 1013, \"humidity\": 49, \"dew_point\": 17.24, \"wind_speed\": 5.83, \"wind_deg\": 198, \"wind_gust\": 10.49, \"weather\": [{\"id\": 803, \"main\": \"Clouds\", \"description\": \"多云\", \"icon\": \"04d\"}], \"clouds\": 52, \"pop\": 0, \"uvi\": 5.94}, {\"dt\": 1757649600, \"sunrise\": 1757627545, \"sunset\": 1757672971, \"moonrise\": 1757681160, \"moonset\": 1757646420, \"moon_phase\": 0.67, \"summary\": \"You can expect partly cloudy in the morning, with clearing in the afternoon\", \"temp\": {\"day\": 27.65, \"min\": 21.46, \"max\": 28.15, \"night\": 22.75, \"eve\": 26.27, \"morn\": 21.46}, \"feels_like\": {\"day\": 27.84, \"night\": 22.91, \"eve\": 26.27, \"morn\": 21.25}, \"pressure\": 1011, \"humidity\": 47, \"dew_point\": 15.28, \"wind_speed\": 3.69, \"wind_deg\": 183, \"wind_gust\": 8.55, \"weather\": [{\"id\": 804, \"main\": \"Clouds\", \"description\": \"阴，多云\", \"icon\": \"04d\"}], \"clouds\": 100, \"pop\": 0, \"uvi\": 2.85}, {\"dt\": 1757736000, \"sunrise\": 1757714001, \"sunset\": 1757759272, \"moonrise\": 1757770260, \"moonset\": 1757737440, \"moon_phase\": 0.7, \"summary\": \"Expect a day of partly cloudy with clear spells\", \"temp\": {\"day\": 26.56, \"min\": 19.61, \"max\": 27.28, \"night\": 22.24, \"eve\": 25.7, \"morn\": 19.61}, \"feels_like\": {\"day\": 26.56, \"night\": 22.58, \"eve\": 26, \"morn\": 19.64}, \"pressure\": 1007, \"humidity\": 51, \"dew_point\": 15.81, \"wind_speed\": 5.77, \"wind_deg\": 207, \"wind_gust\": 10.5, \"weather\": [{\"id\": 802, \"main\": \"Clouds\", \"description\": \"多云\", \"icon\": \"03d\"}], \"clouds\": 44, \"pop\": 0, \"uvi\": 5.38}, {\"dt\": 1757822400, \"sunrise\": 1757800456, \"sunset\": 1757845573, \"moonrise\": 1757859900, \"moonset\": 1757828220, \"moon_phase\": 0.75, \"summary\": \"There will be clear sky today\", \"temp\": {\"day\": 25.87, \"min\": 19.78, \"max\": 27.55, \"night\": 20.73, \"eve\": 25.95, \"morn\": 19.78}, \"feels_like\": {\"day\": 25.22, \"night\": 20.01, \"eve\": 25.95, \"morn\": 20.11}, \"pressure\": 1010, \"humidity\": 27, \"dew_point\": 5.73, \"wind_speed\": 9.17, \"wind_deg\": 308, \"wind_gust\": 14.32, \"weather\": [{\"id\": 800, \"main\": \"Clear\", \"description\": \"晴\", \"icon\": \"01d\"}], \"clouds\": 0, \"pop\": 0, \"uvi\": 5.66}, {\"dt\": 1757908800, \"sunrise\": 1757886912, \"sunset\": 1757931873, \"moonrise\": 1757950140, \"moonset\": 1757918340, \"moon_phase\": 0.78, \"summary\": \"Expect a day of partly cloudy with rain\", \"temp\": {\"day\": 25.24, \"min\": 18.07, \"max\": 25.24, \"night\": 19.2, \"eve\": 20.34, \"morn\": 18.07}, \"feels_like\": {\"day\": 24.71, \"night\": 19.58, \"eve\": 20.54, \"morn\": 17.26}, \"pressure\": 1016, \"humidity\": 34, \"dew_point\": 8.16, \"wind_speed\": 4.41, \"wind_deg\": 192, \"wind_gust\": 6.84, \"weather\": [{\"id\": 501, \"main\": \"Rain\", \"description\": \"中雨\", \"icon\": \"10d\"}], \"clouds\": 73, \"pop\": 1, \"rain\": 7.68, \"uvi\": 6}, {\"dt\": 1757995200, \"sunrise\": 1757973368, \"sunset\": 1758018173, \"moonrise\": 0, \"moonset\": 1758007920, \"moon_phase\": 0.81, \"summary\": \"There will be rain until morning, then partly cloudy\", \"temp\": {\"day\": 21.83, \"min\": 17.61, \"max\": 25.26, \"night\": 20.44, \"eve\": 23.81, \"morn\": 17.93}, \"feels_like\": {\"day\": 21.77, \"night\": 20.55, \"eve\": 23.92, \"morn\": 18.02}, \"pressure\": 1013, \"humidity\": 65, \"dew_point\": 15.12, \"wind_speed\": 3.17, \"wind_deg\": 138, \"wind_gust\": 4.34, \"weather\": [{\"id\": 500, \"main\": \"Rain\", \"description\": \"小雨\", \"icon\": \"10d\"}], \"clouds\": 99, \"pop\": 1, \"rain\": 0.93, \"uvi\": 6}, {\"dt\": 1758081600, \"sunrise\": 1758059823, \"sunset\": 1758104473, \"moonrise\": 1758040680, \"moonset\": 1758096720, \"moon_phase\": 0.85, \"summary\": \"Expect a day of partly cloudy with rain\", \"temp\": {\"day\": 25.01, \"min\": 19.23, \"max\": 27.47, \"night\": 21.5, \"eve\": 26.47, \"morn\": 19.23}, \"feels_like\": {\"day\": 24.92, \"night\": 21.22, \"eve\": 26.47, \"morn\": 19.58}, \"pressure\": 1016, \"humidity\": 52, \"dew_point\": 14.47, \"wind_speed\": 2.76, \"wind_deg\": 149, \"wind_gust\": 4.19, \"weather\": [{\"id\": 500, \"main\": \"Rain\", \"description\": \"小雨\", \"icon\": \"10d\"}], \"clouds\": 63, \"pop\": 1, \"rain\": 1.65, \"uvi\": 6}]}'"
      ]
     },
     "execution_count": 4,
     "metadata": {},
     "output_type": "execute_result"
    }
   ],
   "execution_count": 4
  },
  {
   "cell_type": "markdown",
   "id": "2e0e9c40-9617-481e-8844-e4563d2801cb",
   "metadata": {},
   "source": [
    "在LangGraph中，我们可以直接使用上述外部工具带入到LangGraph中创建智能体，不过更为稳妥的形式，是通过一个`结构化工具函数`来说明外部函数的参数输入（包括参数类型），以确保在实际调用过程中大模型能够准确识别外部函数的参数类型及其实际含义："
   ]
  },
  {
   "cell_type": "code",
   "id": "6b892ba4-deba-4f14-8219-0006878c59ed",
   "metadata": {
    "ExecuteTime": {
     "end_time": "2025-09-10T15:06:35.903058Z",
     "start_time": "2025-09-10T15:06:35.317131Z"
    }
   },
   "source": [
    "from langchain_core.tools import tool\n",
    "from pydantic import BaseModel, Field\n",
    "\n",
    "class WeatherQuery(BaseModel):\n",
    "    loc: str = Field(description=\"The location name of the city\")\n",
    "\n",
    "@tool(args_schema = WeatherQuery)\n",
    "def get_weather(loc):\n",
    "    \"\"\"\n",
    "    查询即时天气函数\n",
    "    :param loc: 必要参数，字符串类型，用于表示查询天气的具体城市名称，\\\n",
    "    注意，中国的城市需要用对应城市的英文名称代替，例如如果需要查询北京市天气，则loc参数需要输入'Beijing'；\n",
    "    :return：OpenWeather API查询即时天气的结果，具体URL请求地址为：https://api.openweathermap.org/data/2.5/weather\\\n",
    "    返回结果对象类型为解析之后的JSON格式对象，并用字符串形式进行表示，其中包含了全部重要的天气信息\n",
    "    \"\"\"\n",
    "    # Step 1.构建请求\n",
    "    url = \"https://api.openweathermap.org/data/2.5/weather\"\n",
    "\n",
    "    # Step 2.设置查询参数\n",
    "    params = {\n",
    "        \"q\": loc,               \n",
    "        \"appid\": os.getenv(\"OPENWEATHER_API_KEY\"),    # 输入API key\n",
    "        \"units\": \"metric\",            # 使用摄氏度而不是华氏度\n",
    "        \"lang\":\"zh_cn\"                # 输出语言为简体中文\n",
    "    }\n",
    "\n",
    "    # Step 3.发送GET请求\n",
    "    response = requests.get(url, params=params)\n",
    "    \n",
    "    # Step 4.解析响应\n",
    "    data = response.json()\n",
    "    return json.dumps(data)"
   ],
   "outputs": [],
   "execution_count": 5
  },
  {
   "cell_type": "code",
   "id": "9fc6a960-b029-4821-9f20-9c6001e8664c",
   "metadata": {
    "ExecuteTime": {
     "end_time": "2025-09-10T15:06:38.028157Z",
     "start_time": "2025-09-10T15:06:38.022651Z"
    }
   },
   "source": [
    "print(f'''\n",
    "name: {get_weather.name}\n",
    "----------------------------\n",
    "description: {get_weather.description}\n",
    "----------------------------\n",
    "arguments: {get_weather.args}\n",
    "''')"
   ],
   "outputs": [
    {
     "name": "stdout",
     "output_type": "stream",
     "text": [
      "\n",
      "name: get_weather\n",
      "----------------------------\n",
      "description: 查询即时天气函数\n",
      ":param loc: 必要参数，字符串类型，用于表示查询天气的具体城市名称，    注意，中国的城市需要用对应城市的英文名称代替，例如如果需要查询北京市天气，则loc参数需要输入'Beijing'；\n",
      ":return：OpenWeather API查询即时天气的结果，具体URL请求地址为：https://api.openweathermap.org/data/2.5/weather    返回结果对象类型为解析之后的JSON格式对象，并用字符串形式进行表示，其中包含了全部重要的天气信息\n",
      "----------------------------\n",
      "arguments: {'loc': {'description': 'The location name of the city', 'title': 'Loc', 'type': 'string'}}\n",
      "\n"
     ]
    }
   ],
   "execution_count": 6
  },
  {
   "cell_type": "markdown",
   "id": "2d04999d-eee4-46c4-8b1f-1bb991caab92",
   "metadata": {},
   "source": [
    "其中Pydantic 提供的 BaseModel 负责定义外部函数的参数结构，相当于是告诉模型外部函数参数名是 loc、类型是字符串（str）、描述为“城市名称”，有了这个结构，模型能更好地理解如何调用该函数。"
   ]
  },
  {
   "cell_type": "markdown",
   "id": "fc0b7b2f-14ff-4771-962d-bd827f81dabe",
   "metadata": {},
   "source": [
    "- 创建LangGraph智能体"
   ]
  },
  {
   "cell_type": "code",
   "id": "c8972c53-223f-483b-9df3-cbdd9bc3ece8",
   "metadata": {
    "ExecuteTime": {
     "end_time": "2025-09-10T15:06:40.923707Z",
     "start_time": "2025-09-10T15:06:40.915804Z"
    }
   },
   "source": [
    "# 封装外部函数列表\n",
    "tools = [get_weather]"
   ],
   "outputs": [],
   "execution_count": 7
  },
  {
   "cell_type": "code",
   "id": "8dd4effd-0e11-4887-b6c9-d7137e6a20ad",
   "metadata": {
    "ExecuteTime": {
     "end_time": "2025-09-10T15:06:56.430885Z",
     "start_time": "2025-09-10T15:06:47.630477Z"
    }
   },
   "source": [
    "from langgraph.prebuilt import create_react_agent\n",
    "from langchain.chat_models import init_chat_model\n",
    "# 当使用 init_chat_model 时，如果不显式传入api_key参数，它会自动尝试从环境变量中读取\n",
    "model = init_chat_model(model=\"deepseek-chat\", model_provider=\"deepseek\")\n",
    "agent = create_react_agent(model=model, tools=tools)\n",
    "response = agent.invoke({\"messages\": [{\"role\": \"user\", \"content\": \"你好，请介绍下你自己。\"}]})"
   ],
   "outputs": [],
   "execution_count": 8
  },
  {
   "cell_type": "code",
   "id": "074a0e61-0f3b-4739-ad2c-4284f495b2f8",
   "metadata": {
    "ExecuteTime": {
     "end_time": "2025-09-10T15:07:53.892841Z",
     "start_time": "2025-09-10T15:07:53.871364Z"
    }
   },
   "source": [
    "response"
   ],
   "outputs": [
    {
     "data": {
      "text/plain": [
       "{'messages': [HumanMessage(content='你好，请介绍下你自己。', additional_kwargs={}, response_metadata={}, id='57354605-bcd9-4c3c-85b9-1b6205401efd'),\n",
       "  AIMessage(content='你好！我是一个AI助手，可以帮助您查询天气信息。我目前具备查询即时天气的功能，可以为您提供指定城市的天气情况。\\n\\n如果您需要了解某个城市的天气，只需要告诉我城市名称（中国的城市请使用英文名称，比如北京用\"Beijing\"，上海用\"Shanghai\"），我就可以为您查询并提供详细的天气信息。\\n\\n请问有什么可以帮助您的吗？', additional_kwargs={'refusal': None}, response_metadata={'token_usage': {'completion_tokens': 75, 'prompt_tokens': 265, 'total_tokens': 340, 'completion_tokens_details': None, 'prompt_tokens_details': {'audio_tokens': None, 'cached_tokens': 192}, 'prompt_cache_hit_tokens': 192, 'prompt_cache_miss_tokens': 73}, 'model_name': 'deepseek-chat', 'system_fingerprint': 'fp_08f168e49b_prod0820_fp8_kvcache', 'id': 'e040ce92-6849-4192-b0ec-875e51b59514', 'service_tier': None, 'finish_reason': 'stop', 'logprobs': None}, id='run--d92a2844-9642-45e0-a098-6bbafb3feb7f-0', usage_metadata={'input_tokens': 265, 'output_tokens': 75, 'total_tokens': 340, 'input_token_details': {'cache_read': 192}, 'output_token_details': {}})]}"
      ]
     },
     "execution_count": 9,
     "metadata": {},
     "output_type": "execute_result"
    }
   ],
   "execution_count": 9
  },
  {
   "cell_type": "code",
   "id": "d63b5bd5-554c-4ec3-afe5-85a2084e9260",
   "metadata": {
    "ExecuteTime": {
     "end_time": "2025-09-10T15:07:55.629910Z",
     "start_time": "2025-09-10T15:07:55.624428Z"
    }
   },
   "source": [
    "response[\"messages\"]"
   ],
   "outputs": [
    {
     "data": {
      "text/plain": [
       "[HumanMessage(content='你好，请介绍下你自己。', additional_kwargs={}, response_metadata={}, id='57354605-bcd9-4c3c-85b9-1b6205401efd'),\n",
       " AIMessage(content='你好！我是一个AI助手，可以帮助您查询天气信息。我目前具备查询即时天气的功能，可以为您提供指定城市的天气情况。\\n\\n如果您需要了解某个城市的天气，只需要告诉我城市名称（中国的城市请使用英文名称，比如北京用\"Beijing\"，上海用\"Shanghai\"），我就可以为您查询并提供详细的天气信息。\\n\\n请问有什么可以帮助您的吗？', additional_kwargs={'refusal': None}, response_metadata={'token_usage': {'completion_tokens': 75, 'prompt_tokens': 265, 'total_tokens': 340, 'completion_tokens_details': None, 'prompt_tokens_details': {'audio_tokens': None, 'cached_tokens': 192}, 'prompt_cache_hit_tokens': 192, 'prompt_cache_miss_tokens': 73}, 'model_name': 'deepseek-chat', 'system_fingerprint': 'fp_08f168e49b_prod0820_fp8_kvcache', 'id': 'e040ce92-6849-4192-b0ec-875e51b59514', 'service_tier': None, 'finish_reason': 'stop', 'logprobs': None}, id='run--d92a2844-9642-45e0-a098-6bbafb3feb7f-0', usage_metadata={'input_tokens': 265, 'output_tokens': 75, 'total_tokens': 340, 'input_token_details': {'cache_read': 192}, 'output_token_details': {}})]"
      ]
     },
     "execution_count": 10,
     "metadata": {},
     "output_type": "execute_result"
    }
   ],
   "execution_count": 10
  },
  {
   "cell_type": "code",
   "id": "86256ff6-cb0e-4be4-a014-a9ed38cdd306",
   "metadata": {
    "ExecuteTime": {
     "end_time": "2025-09-10T15:07:57.053425Z",
     "start_time": "2025-09-10T15:07:57.047399Z"
    }
   },
   "source": [
    "response[\"messages\"][-1].content"
   ],
   "outputs": [
    {
     "data": {
      "text/plain": [
       "'你好！我是一个AI助手，可以帮助您查询天气信息。我目前具备查询即时天气的功能，可以为您提供指定城市的天气情况。\\n\\n如果您需要了解某个城市的天气，只需要告诉我城市名称（中国的城市请使用英文名称，比如北京用\"Beijing\"，上海用\"Shanghai\"），我就可以为您查询并提供详细的天气信息。\\n\\n请问有什么可以帮助您的吗？'"
      ]
     },
     "execution_count": 11,
     "metadata": {},
     "output_type": "execute_result"
    }
   ],
   "execution_count": 11
  },
  {
   "cell_type": "markdown",
   "id": "c9bc8eee-ae41-4d16-a20f-d0e6f8af7d52",
   "metadata": {},
   "source": [
    "然后测试外部工具调用"
   ]
  },
  {
   "cell_type": "code",
   "execution_count": 61,
   "id": "2beb04ae-f24d-443f-819e-5ab1812deffd",
   "metadata": {},
   "outputs": [
    {
     "name": "stdout",
     "output_type": "stream",
     "text": [
      "北京今天的天气情况如下：\n",
      "\n",
      "- **天气状况**：阴，多云\n",
      "- **当前温度**：30.22°C\n",
      "- **体感温度**：30.33°C\n",
      "- **湿度**：43%\n",
      "- **气压**：1004 hPa\n",
      "- **风速**：6.78 m/s，风向为西南方向（213°）\n",
      "- **能见度**：10公里\n",
      "\n",
      "请注意防晒和补水，尤其是多云天气下紫外线依然较强。\n"
     ]
    }
   ],
   "source": [
    "response = agent.invoke({\"messages\": [{\"role\": \"user\", \"content\": \"请问北京今天天气如何？\"}]})\n",
    "print(response[\"messages\"][-1].content)"
   ]
  },
  {
   "cell_type": "code",
   "execution_count": 63,
   "id": "40f1901e-f795-49a5-8ae2-dde6561a5d9f",
   "metadata": {},
   "outputs": [
    {
     "data": {
      "text/plain": [
       "[HumanMessage(content='请问北京今天天气如何？', additional_kwargs={}, response_metadata={}, id='437024fa-2082-4194-9b58-8a8affb6b9c6'),\n",
       " AIMessage(content='', additional_kwargs={'tool_calls': [{'id': 'call_0_be105d52-221c-4eb2-bfe1-7e21279fa53f', 'function': {'arguments': '{\"loc\":\"Beijing\"}', 'name': 'get_weather'}, 'type': 'function', 'index': 0}], 'refusal': None}, response_metadata={'token_usage': {'completion_tokens': 19, 'prompt_tokens': 222, 'total_tokens': 241, 'completion_tokens_details': None, 'prompt_tokens_details': {'audio_tokens': None, 'cached_tokens': 192}, 'prompt_cache_hit_tokens': 192, 'prompt_cache_miss_tokens': 30}, 'model_name': 'deepseek-chat', 'system_fingerprint': 'fp_8802369eaa_prod0623_fp8_kvcache', 'id': 'e94184ce-4b25-4b5d-9c45-b8cc483ff539', 'service_tier': None, 'finish_reason': 'tool_calls', 'logprobs': None}, id='run--638f21a3-91dc-4619-8bdd-66ac48d7e611-0', tool_calls=[{'name': 'get_weather', 'args': {'loc': 'Beijing'}, 'id': 'call_0_be105d52-221c-4eb2-bfe1-7e21279fa53f', 'type': 'tool_call'}], usage_metadata={'input_tokens': 222, 'output_tokens': 19, 'total_tokens': 241, 'input_token_details': {'cache_read': 192}, 'output_token_details': {}}),\n",
       " ToolMessage(content='{\"coord\": {\"lon\": 116.3972, \"lat\": 39.9075}, \"weather\": [{\"id\": 804, \"main\": \"Clouds\", \"description\": \"\\\\u9634\\\\uff0c\\\\u591a\\\\u4e91\", \"icon\": \"04d\"}], \"base\": \"stations\", \"main\": {\"temp\": 30.22, \"feels_like\": 30.33, \"temp_min\": 30.22, \"temp_max\": 30.22, \"pressure\": 1004, \"humidity\": 43, \"sea_level\": 1004, \"grnd_level\": 999}, \"visibility\": 10000, \"wind\": {\"speed\": 6.78, \"deg\": 213, \"gust\": 9.75}, \"clouds\": {\"all\": 100}, \"dt\": 1750930167, \"sys\": {\"country\": \"CN\", \"sunrise\": 1750884439, \"sunset\": 1750938415}, \"timezone\": 28800, \"id\": 1816670, \"name\": \"Beijing\", \"cod\": 200}', name='get_weather', id='f9b7d2d6-05da-496f-b075-22cbd8f9ee19', tool_call_id='call_0_be105d52-221c-4eb2-bfe1-7e21279fa53f'),\n",
       " AIMessage(content='北京今天的天气情况如下：\\n\\n- **天气状况**：阴，多云\\n- **当前温度**：30.22°C\\n- **体感温度**：30.33°C\\n- **湿度**：43%\\n- **气压**：1004 hPa\\n- **风速**：6.78 m/s，风向为西南方向（213°）\\n- **能见度**：10公里\\n\\n请注意防晒和补水，尤其是多云天气下紫外线依然较强。', additional_kwargs={'refusal': None}, response_metadata={'token_usage': {'completion_tokens': 99, 'prompt_tokens': 496, 'total_tokens': 595, 'completion_tokens_details': None, 'prompt_tokens_details': {'audio_tokens': None, 'cached_tokens': 192}, 'prompt_cache_hit_tokens': 192, 'prompt_cache_miss_tokens': 304}, 'model_name': 'deepseek-chat', 'system_fingerprint': 'fp_8802369eaa_prod0623_fp8_kvcache', 'id': '00c08d2e-f7aa-4980-b669-cef67c497dca', 'service_tier': None, 'finish_reason': 'stop', 'logprobs': None}, id='run--fd106677-6489-4a64-8935-210072b57014-0', usage_metadata={'input_tokens': 496, 'output_tokens': 99, 'total_tokens': 595, 'input_token_details': {'cache_read': 192}, 'output_token_details': {}})]"
      ]
     },
     "execution_count": 63,
     "metadata": {},
     "output_type": "execute_result"
    }
   ],
   "source": [
    "response['messages']"
   ]
  },
  {
   "cell_type": "markdown",
   "id": "6ab90af5-7043-4090-9c04-6648691017b4",
   "metadata": {},
   "source": [
    "而这背后其实就是一次完整的Function calling调用流程："
   ]
  },
  {
   "cell_type": "code",
   "execution_count": 64,
   "id": "12b2d8cb-bd12-4ff9-b857-493d5f902020",
   "metadata": {},
   "outputs": [
    {
     "data": {
      "text/plain": [
       "4"
      ]
     },
     "execution_count": 64,
     "metadata": {},
     "output_type": "execute_result"
    }
   ],
   "source": [
    "len(response['messages'])"
   ]
  },
  {
   "cell_type": "code",
   "execution_count": 65,
   "id": "b968f44f-c718-4565-95b5-4affa74767ba",
   "metadata": {},
   "outputs": [
    {
     "data": {
      "text/plain": [
       "HumanMessage(content='请问北京今天天气如何？', additional_kwargs={}, response_metadata={}, id='437024fa-2082-4194-9b58-8a8affb6b9c6')"
      ]
     },
     "execution_count": 65,
     "metadata": {},
     "output_type": "execute_result"
    }
   ],
   "source": [
    "response['messages'][0]"
   ]
  },
  {
   "cell_type": "code",
   "execution_count": 67,
   "id": "8691e8ba-1a50-4516-874c-2c6376c8113b",
   "metadata": {},
   "outputs": [
    {
     "data": {
      "text/plain": [
       "AIMessage(content='', additional_kwargs={'tool_calls': [{'id': 'call_0_be105d52-221c-4eb2-bfe1-7e21279fa53f', 'function': {'arguments': '{\"loc\":\"Beijing\"}', 'name': 'get_weather'}, 'type': 'function', 'index': 0}], 'refusal': None}, response_metadata={'token_usage': {'completion_tokens': 19, 'prompt_tokens': 222, 'total_tokens': 241, 'completion_tokens_details': None, 'prompt_tokens_details': {'audio_tokens': None, 'cached_tokens': 192}, 'prompt_cache_hit_tokens': 192, 'prompt_cache_miss_tokens': 30}, 'model_name': 'deepseek-chat', 'system_fingerprint': 'fp_8802369eaa_prod0623_fp8_kvcache', 'id': 'e94184ce-4b25-4b5d-9c45-b8cc483ff539', 'service_tier': None, 'finish_reason': 'tool_calls', 'logprobs': None}, id='run--638f21a3-91dc-4619-8bdd-66ac48d7e611-0', tool_calls=[{'name': 'get_weather', 'args': {'loc': 'Beijing'}, 'id': 'call_0_be105d52-221c-4eb2-bfe1-7e21279fa53f', 'type': 'tool_call'}], usage_metadata={'input_tokens': 222, 'output_tokens': 19, 'total_tokens': 241, 'input_token_details': {'cache_read': 192}, 'output_token_details': {}})"
      ]
     },
     "execution_count": 67,
     "metadata": {},
     "output_type": "execute_result"
    }
   ],
   "source": [
    "response['messages'][1]"
   ]
  },
  {
   "cell_type": "code",
   "execution_count": 68,
   "id": "67aeb4d5-d3d9-42da-ad95-aaced2272966",
   "metadata": {},
   "outputs": [
    {
     "data": {
      "text/plain": [
       "ToolMessage(content='{\"coord\": {\"lon\": 116.3972, \"lat\": 39.9075}, \"weather\": [{\"id\": 804, \"main\": \"Clouds\", \"description\": \"\\\\u9634\\\\uff0c\\\\u591a\\\\u4e91\", \"icon\": \"04d\"}], \"base\": \"stations\", \"main\": {\"temp\": 30.22, \"feels_like\": 30.33, \"temp_min\": 30.22, \"temp_max\": 30.22, \"pressure\": 1004, \"humidity\": 43, \"sea_level\": 1004, \"grnd_level\": 999}, \"visibility\": 10000, \"wind\": {\"speed\": 6.78, \"deg\": 213, \"gust\": 9.75}, \"clouds\": {\"all\": 100}, \"dt\": 1750930167, \"sys\": {\"country\": \"CN\", \"sunrise\": 1750884439, \"sunset\": 1750938415}, \"timezone\": 28800, \"id\": 1816670, \"name\": \"Beijing\", \"cod\": 200}', name='get_weather', id='f9b7d2d6-05da-496f-b075-22cbd8f9ee19', tool_call_id='call_0_be105d52-221c-4eb2-bfe1-7e21279fa53f')"
      ]
     },
     "execution_count": 68,
     "metadata": {},
     "output_type": "execute_result"
    }
   ],
   "source": [
    "response['messages'][2]"
   ]
  },
  {
   "cell_type": "code",
   "execution_count": 69,
   "id": "27c7db53-49e0-41f6-a02f-12ba527e6e75",
   "metadata": {},
   "outputs": [
    {
     "data": {
      "text/plain": [
       "AIMessage(content='北京今天的天气情况如下：\\n\\n- **天气状况**：阴，多云\\n- **当前温度**：30.22°C\\n- **体感温度**：30.33°C\\n- **湿度**：43%\\n- **气压**：1004 hPa\\n- **风速**：6.78 m/s，风向为西南方向（213°）\\n- **能见度**：10公里\\n\\n请注意防晒和补水，尤其是多云天气下紫外线依然较强。', additional_kwargs={'refusal': None}, response_metadata={'token_usage': {'completion_tokens': 99, 'prompt_tokens': 496, 'total_tokens': 595, 'completion_tokens_details': None, 'prompt_tokens_details': {'audio_tokens': None, 'cached_tokens': 192}, 'prompt_cache_hit_tokens': 192, 'prompt_cache_miss_tokens': 304}, 'model_name': 'deepseek-chat', 'system_fingerprint': 'fp_8802369eaa_prod0623_fp8_kvcache', 'id': '00c08d2e-f7aa-4980-b669-cef67c497dca', 'service_tier': None, 'finish_reason': 'stop', 'logprobs': None}, id='run--fd106677-6489-4a64-8935-210072b57014-0', usage_metadata={'input_tokens': 496, 'output_tokens': 99, 'total_tokens': 595, 'input_token_details': {'cache_read': 192}, 'output_token_details': {}})"
      ]
     },
     "execution_count": 69,
     "metadata": {},
     "output_type": "execute_result"
    }
   ],
   "source": [
    "response['messages'][3]"
   ]
  },
  {
   "cell_type": "markdown",
   "id": "c1291e8a-bbc8-46a0-a031-2da924afa977",
   "metadata": {},
   "source": [
    "<center><img src=\"https://ml2022.oss-cn-hangzhou.aliyuncs.com/img/image-20250318202029130.png\" alt=\"image-20250318202029130\" style=\"zoom:35%;\" />"
   ]
  },
  {
   "cell_type": "markdown",
   "id": "e7628af6-e072-4b8f-ba2f-19401eda075c",
   "metadata": {},
   "source": [
    "> 更加完整的Function calling执行链路\n",
    "> <center><img src=\"https://ml2022.oss-cn-hangzhou.aliyuncs.com/img/202412191720637.png\" alt=\"202412191720637\" style=\"zoom:50%;\" />"
   ]
  },
  {
   "cell_type": "markdown",
   "id": "4f3c7452-c74c-4e8c-b43c-67151548ddc2",
   "metadata": {},
   "source": [
    "### 3. LangGraph React Agent外部工具响应形式"
   ]
  },
  {
   "cell_type": "markdown",
   "id": "0abc4f7a-ad2e-41b5-8b55-217f77acb0c9",
   "metadata": {},
   "source": [
    "&emsp;&emsp;借助LangGraph React Agent，无需任何额外设置，即可完成多工具串联和并联调用。"
   ]
  },
  {
   "cell_type": "markdown",
   "id": "0decd7c6-301a-4b24-8e5c-d6d4cb3da6b1",
   "metadata": {},
   "source": [
    "<center><img src=\"https://ml2022.oss-cn-hangzhou.aliyuncs.com/img/image-20250626173225510.png\" alt=\"image-20250626173225510\" style=\"zoom:50%;\" />"
   ]
  },
  {
   "cell_type": "code",
   "execution_count": 85,
   "id": "3ae0edef-8749-49be-9d1f-f0e9b87c5e06",
   "metadata": {},
   "outputs": [],
   "source": [
    "response = agent.invoke({\"messages\": [{\"role\": \"user\", \"content\": \"请问北京和杭州今天哪里更热？\"}]})"
   ]
  },
  {
   "cell_type": "code",
   "execution_count": 86,
   "id": "cc3c98e5-cef8-4b2f-a076-a3846129a37e",
   "metadata": {},
   "outputs": [
    {
     "data": {
      "text/plain": [
       "{'messages': [HumanMessage(content='请问北京和杭州今天哪里更热？', additional_kwargs={}, response_metadata={}, id='61c31341-a015-4991-a828-d26047470913'),\n",
       "  AIMessage(content='', additional_kwargs={'tool_calls': [{'id': 'call_0_428a28c6-a65c-4bcb-b3d2-4ffd7c5b8c2a', 'function': {'arguments': '{\"loc\": \"Beijing\"}', 'name': 'get_weather'}, 'type': 'function', 'index': 0}, {'id': 'call_1_8cfb80ca-94b7-4df8-ae01-f1492250f318', 'function': {'arguments': '{\"loc\": \"Hangzhou\"}', 'name': 'get_weather'}, 'type': 'function', 'index': 1}], 'refusal': None}, response_metadata={'token_usage': {'completion_tokens': 41, 'prompt_tokens': 344, 'total_tokens': 385, 'completion_tokens_details': None, 'prompt_tokens_details': {'audio_tokens': None, 'cached_tokens': 320}, 'prompt_cache_hit_tokens': 320, 'prompt_cache_miss_tokens': 24}, 'model_name': 'deepseek-chat', 'system_fingerprint': 'fp_8802369eaa_prod0623_fp8_kvcache', 'id': 'f696ffdf-f12d-444d-9ac4-a5869eb92bb5', 'service_tier': None, 'finish_reason': 'tool_calls', 'logprobs': None}, id='run--0d5b607b-ecea-4076-a1d6-882b4c61875b-0', tool_calls=[{'name': 'get_weather', 'args': {'loc': 'Beijing'}, 'id': 'call_0_428a28c6-a65c-4bcb-b3d2-4ffd7c5b8c2a', 'type': 'tool_call'}, {'name': 'get_weather', 'args': {'loc': 'Hangzhou'}, 'id': 'call_1_8cfb80ca-94b7-4df8-ae01-f1492250f318', 'type': 'tool_call'}], usage_metadata={'input_tokens': 344, 'output_tokens': 41, 'total_tokens': 385, 'input_token_details': {'cache_read': 320}, 'output_token_details': {}}),\n",
       "  ToolMessage(content='{\"coord\": {\"lon\": 116.3972, \"lat\": 39.9075}, \"weather\": [{\"id\": 804, \"main\": \"Clouds\", \"description\": \"\\\\u9634\\\\uff0c\\\\u591a\\\\u4e91\", \"icon\": \"04d\"}], \"base\": \"stations\", \"main\": {\"temp\": 28.42, \"feels_like\": 28.04, \"temp_min\": 28.42, \"temp_max\": 28.42, \"pressure\": 1004, \"humidity\": 40, \"sea_level\": 1004, \"grnd_level\": 999}, \"visibility\": 10000, \"wind\": {\"speed\": 7.24, \"deg\": 214, \"gust\": 10.16}, \"clouds\": {\"all\": 97}, \"dt\": 1750930823, \"sys\": {\"country\": \"CN\", \"sunrise\": 1750884439, \"sunset\": 1750938415}, \"timezone\": 28800, \"id\": 1816670, \"name\": \"Beijing\", \"cod\": 200}', name='get_weather', id='b7b3590b-b843-45e3-85bb-cb5f5a2486eb', tool_call_id='call_0_428a28c6-a65c-4bcb-b3d2-4ffd7c5b8c2a'),\n",
       "  ToolMessage(content='{\"coord\": {\"lon\": 120.1614, \"lat\": 30.2937}, \"weather\": [{\"id\": 501, \"main\": \"Rain\", \"description\": \"\\\\u4e2d\\\\u96e8\", \"icon\": \"10d\"}], \"base\": \"stations\", \"main\": {\"temp\": 31.9, \"feels_like\": 38.9, \"temp_min\": 31.9, \"temp_max\": 31.9, \"pressure\": 1004, \"humidity\": 75, \"sea_level\": 1004, \"grnd_level\": 1002}, \"visibility\": 10000, \"wind\": {\"speed\": 1.18, \"deg\": 26, \"gust\": 3.61}, \"rain\": {\"1h\": 1.5}, \"clouds\": {\"all\": 95}, \"dt\": 1750931166, \"sys\": {\"country\": \"CN\", \"sunrise\": 1750885155, \"sunset\": 1750935893}, \"timezone\": 28800, \"id\": 1808926, \"name\": \"Hangzhou\", \"cod\": 200}', name='get_weather', id='2fe0745d-87e6-4ac7-ac22-29b0411dfd9a', tool_call_id='call_1_8cfb80ca-94b7-4df8-ae01-f1492250f318'),\n",
       "  AIMessage(content='根据最新的天气数据：\\n\\n- **北京**：当前温度为 **28.42°C**，天气多云，体感温度为 **28.04°C**，湿度为 **40%**。\\n- **杭州**：当前温度为 **31.9°C**，天气中雨，体感温度为 **38.9°C**，湿度为 **75%**。\\n\\n**结论**：杭州比北京更热，尤其是体感温度更高，且湿度较大。', additional_kwargs={'refusal': None}, response_metadata={'token_usage': {'completion_tokens': 98, 'prompt_tokens': 900, 'total_tokens': 998, 'completion_tokens_details': None, 'prompt_tokens_details': {'audio_tokens': None, 'cached_tokens': 384}, 'prompt_cache_hit_tokens': 384, 'prompt_cache_miss_tokens': 516}, 'model_name': 'deepseek-chat', 'system_fingerprint': 'fp_8802369eaa_prod0623_fp8_kvcache', 'id': '1c59465c-51fe-47d3-9974-8249cbdb1508', 'service_tier': None, 'finish_reason': 'stop', 'logprobs': None}, id='run--a0079b51-a5c2-48b9-bb08-b36ab4c2cc6f-0', usage_metadata={'input_tokens': 900, 'output_tokens': 98, 'total_tokens': 998, 'input_token_details': {'cache_read': 384}, 'output_token_details': {}})]}"
      ]
     },
     "execution_count": 86,
     "metadata": {},
     "output_type": "execute_result"
    }
   ],
   "source": [
    "response"
   ]
  },
  {
   "cell_type": "code",
   "execution_count": 91,
   "id": "137578e5-ccb0-476f-a196-8f2176e8945b",
   "metadata": {},
   "outputs": [],
   "source": [
    "from langchain_core.tools import tool\n",
    "from pydantic import BaseModel, Field\n",
    "\n",
    "class Write_Query(BaseModel):\n",
    "    content: str = Field(description=\"需要写入文档的具体内容\")\n",
    "\n",
    "@tool(args_schema = Write_Query)\n",
    "def write_file(content: str) -> str:\n",
    "    \"\"\"\n",
    "    将指定内容写入本地文件。\n",
    "    :param content: 必要参数，字符串类型，用于表示需要写入文档的具体内容。\n",
    "    :return：是否成功写入\n",
    "    \"\"\"\n",
    "    return \"已成功写入本地文件。\""
   ]
  },
  {
   "cell_type": "code",
   "execution_count": 92,
   "id": "a8871231-e47c-4808-940f-3f22417e4ebe",
   "metadata": {},
   "outputs": [],
   "source": [
    "# 封装外部函数列表\n",
    "tools = [get_weather, write_file]"
   ]
  },
  {
   "cell_type": "code",
   "execution_count": 93,
   "id": "554a531d-2090-4ae8-9cae-935abb1682df",
   "metadata": {},
   "outputs": [],
   "source": [
    "agent = create_react_agent(model=model, tools=tools)"
   ]
  },
  {
   "cell_type": "code",
   "execution_count": 94,
   "id": "f3386978-e20f-4b43-b1f0-e9eddf101212",
   "metadata": {},
   "outputs": [],
   "source": [
    "response = agent.invoke({\"messages\": [{\"role\": \"user\", \"content\": \"你好，请帮我查询北京和杭州的天气，并将其写入本地文件中。\"}]})"
   ]
  },
  {
   "cell_type": "code",
   "execution_count": 95,
   "id": "876a1117-c6a4-42a7-83d8-deb33a1279cd",
   "metadata": {},
   "outputs": [
    {
     "name": "stdout",
     "output_type": "stream",
     "text": [
      "我已经将北京和杭州的天气信息写入本地文件中。以下是内容摘要：\n",
      "\n",
      "**北京天气：**\n",
      "- 天气状况：阴，多云\n",
      "- 温度：28.42°C\n",
      "- 体感温度：28.04°C\n",
      "- 湿度：40%\n",
      "- 风速：7.24 m/s\n",
      "\n",
      "**杭州天气：**\n",
      "- 天气状况：中雨\n",
      "- 温度：31.9°C\n",
      "- 体感温度：38.9°C\n",
      "- 湿度：75%\n",
      "- 风速：1.18 m/s\n",
      "\n",
      "文件已成功保存。\n"
     ]
    }
   ],
   "source": [
    "print(response[\"messages\"][-1].content)"
   ]
  },
  {
   "cell_type": "code",
   "execution_count": 97,
   "id": "ba9c2fc5-d928-4a55-a7cc-6b852d7f39c3",
   "metadata": {},
   "outputs": [
    {
     "data": {
      "text/plain": [
       "7"
      ]
     },
     "execution_count": 97,
     "metadata": {},
     "output_type": "execute_result"
    }
   ],
   "source": [
    "len(response['messages'])"
   ]
  },
  {
   "cell_type": "code",
   "execution_count": 98,
   "id": "8008b710-e79c-4720-b67a-064b39433fcb",
   "metadata": {},
   "outputs": [
    {
     "data": {
      "text/plain": [
       "[HumanMessage(content='你好，请帮我查询北京和杭州的天气，并将其写入本地文件中。', additional_kwargs={}, response_metadata={}, id='7e5663b1-7c16-4c5d-a71a-c04bea24a845'),\n",
       " AIMessage(content='', additional_kwargs={'tool_calls': [{'id': 'call_0_5d676409-f24e-45b6-a1c6-feab6b607025', 'function': {'arguments': '{\"loc\": \"Beijing\"}', 'name': 'get_weather'}, 'type': 'function', 'index': 0}, {'id': 'call_1_e0bf4f8c-80ae-4589-b289-4b5a1961795a', 'function': {'arguments': '{\"loc\": \"Hangzhou\"}', 'name': 'get_weather'}, 'type': 'function', 'index': 1}], 'refusal': None}, response_metadata={'token_usage': {'completion_tokens': 42, 'prompt_tokens': 351, 'total_tokens': 393, 'completion_tokens_details': None, 'prompt_tokens_details': {'audio_tokens': None, 'cached_tokens': 256}, 'prompt_cache_hit_tokens': 256, 'prompt_cache_miss_tokens': 95}, 'model_name': 'deepseek-chat', 'system_fingerprint': 'fp_8802369eaa_prod0623_fp8_kvcache', 'id': 'aa66d5f6-9822-4fa8-9893-54e1069bb188', 'service_tier': None, 'finish_reason': 'tool_calls', 'logprobs': None}, id='run--e2f601f1-2b61-44cb-ae0a-53032e25b34b-0', tool_calls=[{'name': 'get_weather', 'args': {'loc': 'Beijing'}, 'id': 'call_0_5d676409-f24e-45b6-a1c6-feab6b607025', 'type': 'tool_call'}, {'name': 'get_weather', 'args': {'loc': 'Hangzhou'}, 'id': 'call_1_e0bf4f8c-80ae-4589-b289-4b5a1961795a', 'type': 'tool_call'}], usage_metadata={'input_tokens': 351, 'output_tokens': 42, 'total_tokens': 393, 'input_token_details': {'cache_read': 256}, 'output_token_details': {}}),\n",
       " ToolMessage(content='{\"coord\": {\"lon\": 116.3972, \"lat\": 39.9075}, \"weather\": [{\"id\": 804, \"main\": \"Clouds\", \"description\": \"\\\\u9634\\\\uff0c\\\\u591a\\\\u4e91\", \"icon\": \"04d\"}], \"base\": \"stations\", \"main\": {\"temp\": 28.42, \"feels_like\": 28.04, \"temp_min\": 28.42, \"temp_max\": 28.42, \"pressure\": 1004, \"humidity\": 40, \"sea_level\": 1004, \"grnd_level\": 999}, \"visibility\": 10000, \"wind\": {\"speed\": 7.24, \"deg\": 214, \"gust\": 10.16}, \"clouds\": {\"all\": 97}, \"dt\": 1750930952, \"sys\": {\"country\": \"CN\", \"sunrise\": 1750884439, \"sunset\": 1750938415}, \"timezone\": 28800, \"id\": 1816670, \"name\": \"Beijing\", \"cod\": 200}', name='get_weather', id='4be5d0a3-c9bf-44e8-a2fa-b7d6ad0665c7', tool_call_id='call_0_5d676409-f24e-45b6-a1c6-feab6b607025'),\n",
       " ToolMessage(content='{\"coord\": {\"lon\": 120.1614, \"lat\": 30.2937}, \"weather\": [{\"id\": 501, \"main\": \"Rain\", \"description\": \"\\\\u4e2d\\\\u96e8\", \"icon\": \"10d\"}], \"base\": \"stations\", \"main\": {\"temp\": 31.9, \"feels_like\": 38.9, \"temp_min\": 31.9, \"temp_max\": 31.9, \"pressure\": 1004, \"humidity\": 75, \"sea_level\": 1004, \"grnd_level\": 1002}, \"visibility\": 10000, \"wind\": {\"speed\": 1.18, \"deg\": 26, \"gust\": 3.61}, \"rain\": {\"1h\": 1.54}, \"clouds\": {\"all\": 95}, \"dt\": 1750930851, \"sys\": {\"country\": \"CN\", \"sunrise\": 1750885155, \"sunset\": 1750935893}, \"timezone\": 28800, \"id\": 1808926, \"name\": \"Hangzhou\", \"cod\": 200}', name='get_weather', id='b9a422ed-b600-4c9e-8623-ad94eecf9742', tool_call_id='call_1_e0bf4f8c-80ae-4589-b289-4b5a1961795a'),\n",
       " AIMessage(content='', additional_kwargs={'tool_calls': [{'id': 'call_0_1c081c7f-2cf1-4c31-a7f7-01b9702b2a8c', 'function': {'arguments': '{\"content\":\"北京天气：\\\\n- 天气状况：阴，多云\\\\n- 温度：28.42°C\\\\n- 体感温度：28.04°C\\\\n- 湿度：40%\\\\n- 风速：7.24 m/s\\\\n\\\\n杭州天气：\\\\n- 天气状况：中雨\\\\n- 温度：31.9°C\\\\n- 体感温度：38.9°C\\\\n- 湿度：75%\\\\n- 风速：1.18 m/s\"}', 'name': 'write_file'}, 'type': 'function', 'index': 0}], 'refusal': None}, response_metadata={'token_usage': {'completion_tokens': 122, 'prompt_tokens': 907, 'total_tokens': 1029, 'completion_tokens_details': None, 'prompt_tokens_details': {'audio_tokens': None, 'cached_tokens': 320}, 'prompt_cache_hit_tokens': 320, 'prompt_cache_miss_tokens': 587}, 'model_name': 'deepseek-chat', 'system_fingerprint': 'fp_8802369eaa_prod0623_fp8_kvcache', 'id': '7197435e-d9ba-4e9b-a923-b2686a66f320', 'service_tier': None, 'finish_reason': 'tool_calls', 'logprobs': None}, id='run--85a07e59-12f2-404f-9c6c-9e3806dd6883-0', tool_calls=[{'name': 'write_file', 'args': {'content': '北京天气：\\n- 天气状况：阴，多云\\n- 温度：28.42°C\\n- 体感温度：28.04°C\\n- 湿度：40%\\n- 风速：7.24 m/s\\n\\n杭州天气：\\n- 天气状况：中雨\\n- 温度：31.9°C\\n- 体感温度：38.9°C\\n- 湿度：75%\\n- 风速：1.18 m/s'}, 'id': 'call_0_1c081c7f-2cf1-4c31-a7f7-01b9702b2a8c', 'type': 'tool_call'}], usage_metadata={'input_tokens': 907, 'output_tokens': 122, 'total_tokens': 1029, 'input_token_details': {'cache_read': 320}, 'output_token_details': {}}),\n",
       " ToolMessage(content='已成功写入本地文件。', name='write_file', id='6f60980d-07a2-4135-b2db-5077bc3204a0', tool_call_id='call_0_1c081c7f-2cf1-4c31-a7f7-01b9702b2a8c'),\n",
       " AIMessage(content='我已经将北京和杭州的天气信息写入本地文件中。以下是内容摘要：\\n\\n**北京天气：**\\n- 天气状况：阴，多云\\n- 温度：28.42°C\\n- 体感温度：28.04°C\\n- 湿度：40%\\n- 风速：7.24 m/s\\n\\n**杭州天气：**\\n- 天气状况：中雨\\n- 温度：31.9°C\\n- 体感温度：38.9°C\\n- 湿度：75%\\n- 风速：1.18 m/s\\n\\n文件已成功保存。', additional_kwargs={'refusal': None}, response_metadata={'token_usage': {'completion_tokens': 124, 'prompt_tokens': 1219, 'total_tokens': 1343, 'completion_tokens_details': None, 'prompt_tokens_details': {'audio_tokens': None, 'cached_tokens': 896}, 'prompt_cache_hit_tokens': 896, 'prompt_cache_miss_tokens': 323}, 'model_name': 'deepseek-chat', 'system_fingerprint': 'fp_8802369eaa_prod0623_fp8_kvcache', 'id': 'f09baf1b-9ee8-4077-b851-89b511bbffaa', 'service_tier': None, 'finish_reason': 'stop', 'logprobs': None}, id='run--88806651-2000-403d-9afe-c7a44f3d9583-0', usage_metadata={'input_tokens': 1219, 'output_tokens': 124, 'total_tokens': 1343, 'input_token_details': {'cache_read': 896}, 'output_token_details': {}})]"
      ]
     },
     "execution_count": 98,
     "metadata": {},
     "output_type": "execute_result"
    }
   ],
   "source": [
    "response['messages']"
   ]
  },
  {
   "cell_type": "markdown",
   "id": "8146022b-52d9-44b6-bf51-79bf4094a67e",
   "metadata": {},
   "source": [
    "能够看出，此时Agent能够顺利完成多工具的多次调用，并最终完成用户需求。需要注意的是，此时react agent的执行逻辑是先发起了一次并联调用工具的请求，然后第二次再发起调用write函数的调用请求，因此总共是7条消息。"
   ]
  },
  {
   "cell_type": "markdown",
   "id": "97caad79-bb0d-4cad-8cab-6ca164c7fe4d",
   "metadata": {},
   "source": [
    "#### 4. LangGraph React Agent接入内置工具流程"
   ]
  },
  {
   "cell_type": "markdown",
   "id": "db0de7ee-0d4d-43cb-94ea-a40af7adce17",
   "metadata": {},
   "source": [
    "&emsp;&emsp;当然对于LangGraph智能体来说，除了能够灵活接如自定义工具，还能够接入LangChain丰富的内置工具，快速完成智能体开发。"
   ]
  },
  {
   "cell_type": "markdown",
   "id": "b75ff244-69d7-41e9-bdf4-3efb0b9afccc",
   "metadata": {},
   "source": [
    "&emsp;&emsp;在 LangChain 框架中，\\*\\*工具（Tools）\\*\\*是实现语言模型与外部世界交互的关键机制。LangChain 提供了大量内置与可扩展的工具接口，使得智能体（Agent）能够执行函数调用、访问 API、查询搜索引擎、调用数据库等任务，从而超越纯语言生成的能力，真正实现“能行动的智能体”。LangChain 官方文档将这些工具按照其用途进行了模块化划分，涵盖了以下主要类别：\n",
    "\n",
    "| 功能类别      | 工具名称                                       | 简要说明                    |\n",
    "| --------- | ------------------------------------------ | ----------------------- |\n",
    "| 🔎 搜索工具   | `TavilySearchResults`                      | 快速搜索实时网络信息              |\n",
    "|           | `SerpAPIWrapper`                           | 基于 SerpAPI 的搜索结果工具      |\n",
    "|           | `GoogleSearchAPIWrapper`                   | 调用 Google 可编程搜索引擎       |\n",
    "| 🧠 计算工具   | `PythonREPLTool`                           | 执行 Python 表达式并返回结果      |\n",
    "|           | `LLMMathTool`                              | 结合 LLM 和数学推理能力          |\n",
    "|           | `WolframAlphaQueryRun`                     | 基于 Wolfram Alpha 的计算引擎  |\n",
    "| 🗂 数据工具   | `SQLDatabaseToolkit`                       | 构建 SQL 数据库查询工具集         |\n",
    "|           | `PandasDataframeTool`                      | 用于在 Agent 中操作表格数据       |\n",
    "| 🌐 网络/API | `RequestsGetTool` / `RequestsPostTool`     | 执行 HTTP 请求              |\n",
    "|           | `BrowserTool` / `PlaywrightBrowserToolkit` | 自动化网页浏览与抓取              |\n",
    "| 💾 文件处理   | `ReadFileTool`                             | 读取本地文件内容                |\n",
    "|           | `WriteFileTool`                            | 写入文本到指定文件中              |\n",
    "| 📚 检索工具   | `FAISSRetriever`                           | 基于向量的文档检索工具             |\n",
    "|           | `ChromaRetriever`                          | 使用 ChromaDB 的检索器        |\n",
    "|           | `ContextualCompressionRetriever`           | 上下文压缩检索器，适合长文档          |\n",
    "| 🧠 LLM 工具 | `ChatOpenAI` / `OpenAIFunctionsTool`       | 使用 OpenAI 模型作为工具调用      |\n",
    "|           | `ChatAnthropic`                            | Anthropic Claude 模型封装工具 |\n",
    "| 🔧 自定义工具  | `@tool` 装饰器                                | 任意函数可封装为 Agent 可调用工具    |\n",
    "|           | `Tool` 类继承                                 | 自定义更复杂逻辑的工具实现           |"
   ]
  },
  {
   "cell_type": "markdown",
   "id": "aeec6710-388e-46b2-976d-b7a9bea069a4",
   "metadata": {},
   "source": [
    "> LangChain工具集：https://python.langchain.com/docs/integrations/tools/ "
   ]
  },
  {
   "cell_type": "markdown",
   "id": "6b70c41f-7e7b-419c-b3d2-ef0b8949dbc5",
   "metadata": {},
   "source": [
    "<center><img src=\"https://ml2022.oss-cn-hangzhou.aliyuncs.com/img/image-20250626155849820.png\" alt=\"image-20250626155849820\" style=\"zoom:50%;\" />"
   ]
  },
  {
   "cell_type": "markdown",
   "id": "1e1d9c24-ac48-499b-8d52-275e51004121",
   "metadata": {},
   "source": [
    "- 创建带搜索功能的Agent"
   ]
  },
  {
   "cell_type": "markdown",
   "id": "9b765d37-f27b-4473-ac2b-c57c2b2beffd",
   "metadata": {},
   "source": [
    "&emsp;&emsp;这里我们尝试借助LangChain内置的Tavily搜索引擎工具，搭建能够进行网络搜索的智能体。首先需要在tavily官网进行注册并获取API-KEY：https://www.tavily.com/"
   ]
  },
  {
   "cell_type": "markdown",
   "id": "c8440928-f7dc-4cd3-a695-b6c3da985c20",
   "metadata": {},
   "source": [
    "<center><img src=\"https://ml2022.oss-cn-hangzhou.aliyuncs.com/img/image-20250626181911334.png\" alt=\"image-20250626181911334\" style=\"zoom:33%;\" />"
   ]
  },
  {
   "cell_type": "markdown",
   "id": "400f0f10-b87a-4e09-b2fc-ad37d7696ff7",
   "metadata": {},
   "source": [
    "并继续将tavily的API-KEY写到.env文件中："
   ]
  },
  {
   "cell_type": "markdown",
   "id": "e4e253e8-0851-4d88-92b1-6afda4fb5633",
   "metadata": {},
   "source": [
    "<center><img src=\"https://ml2022.oss-cn-hangzhou.aliyuncs.com/img/image-20250626182015326.png\" alt=\"image-20250626182015326\" style=\"zoom:50%;\" />"
   ]
  },
  {
   "cell_type": "markdown",
   "id": "5ac3cfab-54b7-42f9-bbc8-cff1c5d23d4c",
   "metadata": {},
   "source": [
    "然后安装对应的库:"
   ]
  },
  {
   "cell_type": "code",
   "execution_count": 121,
   "id": "799d19df-631f-4a31-8e59-24da496b1bff",
   "metadata": {
    "scrolled": true
   },
   "outputs": [
    {
     "name": "stdout",
     "output_type": "stream",
     "text": [
      "Requirement already satisfied: langchain-tavily in /root/anaconda3/lib/python3.12/site-packages (0.2.4)\n",
      "Requirement already satisfied: aiohttp<4.0.0,>=3.11.14 in /root/anaconda3/lib/python3.12/site-packages (from langchain-tavily) (3.11.18)\n",
      "Requirement already satisfied: langchain<0.4.0,>=0.3.20 in /root/anaconda3/lib/python3.12/site-packages (from langchain-tavily) (0.3.25)\n",
      "Requirement already satisfied: langchain-core<0.4.0,>=0.3.15 in /root/anaconda3/lib/python3.12/site-packages (from langchain-tavily) (0.3.65)\n",
      "Requirement already satisfied: mypy<2.0.0,>=1.15.0 in /root/anaconda3/lib/python3.12/site-packages (from langchain-tavily) (1.16.0)\n",
      "Requirement already satisfied: requests<3.0.0,>=2.32.3 in /root/anaconda3/lib/python3.12/site-packages (from langchain-tavily) (2.32.3)\n",
      "Requirement already satisfied: aiohappyeyeballs>=2.3.0 in /root/anaconda3/lib/python3.12/site-packages (from aiohttp<4.0.0,>=3.11.14->langchain-tavily) (2.4.4)\n",
      "Requirement already satisfied: aiosignal>=1.1.2 in /root/anaconda3/lib/python3.12/site-packages (from aiohttp<4.0.0,>=3.11.14->langchain-tavily) (1.2.0)\n",
      "Requirement already satisfied: attrs>=17.3.0 in /root/anaconda3/lib/python3.12/site-packages (from aiohttp<4.0.0,>=3.11.14->langchain-tavily) (25.3.0)\n",
      "Requirement already satisfied: frozenlist>=1.1.1 in /root/anaconda3/lib/python3.12/site-packages (from aiohttp<4.0.0,>=3.11.14->langchain-tavily) (1.4.0)\n",
      "Requirement already satisfied: multidict<7.0,>=4.5 in /root/anaconda3/lib/python3.12/site-packages (from aiohttp<4.0.0,>=3.11.14->langchain-tavily) (6.0.4)\n",
      "Requirement already satisfied: propcache>=0.2.0 in /root/anaconda3/lib/python3.12/site-packages (from aiohttp<4.0.0,>=3.11.14->langchain-tavily) (0.2.1)\n",
      "Requirement already satisfied: yarl<2.0,>=1.17.0 in /root/anaconda3/lib/python3.12/site-packages (from aiohttp<4.0.0,>=3.11.14->langchain-tavily) (1.18.3)\n",
      "Requirement already satisfied: langchain-text-splitters<1.0.0,>=0.3.8 in /root/anaconda3/lib/python3.12/site-packages (from langchain<0.4.0,>=0.3.20->langchain-tavily) (0.3.8)\n",
      "Requirement already satisfied: langsmith<0.4,>=0.1.17 in /root/anaconda3/lib/python3.12/site-packages (from langchain<0.4.0,>=0.3.20->langchain-tavily) (0.3.45)\n",
      "Requirement already satisfied: pydantic<3.0.0,>=2.7.4 in /root/anaconda3/lib/python3.12/site-packages (from langchain<0.4.0,>=0.3.20->langchain-tavily) (2.11.4)\n",
      "Requirement already satisfied: SQLAlchemy<3,>=1.4 in /root/anaconda3/lib/python3.12/site-packages (from langchain<0.4.0,>=0.3.20->langchain-tavily) (2.0.32)\n",
      "Requirement already satisfied: PyYAML>=5.3 in /root/anaconda3/lib/python3.12/site-packages (from langchain<0.4.0,>=0.3.20->langchain-tavily) (6.0.1)\n",
      "Requirement already satisfied: tenacity!=8.4.0,<10.0.0,>=8.1.0 in /root/anaconda3/lib/python3.12/site-packages (from langchain-core<0.4.0,>=0.3.15->langchain-tavily) (8.5.0)\n",
      "Requirement already satisfied: jsonpatch<2.0,>=1.33 in /root/anaconda3/lib/python3.12/site-packages (from langchain-core<0.4.0,>=0.3.15->langchain-tavily) (1.33)\n",
      "Requirement already satisfied: packaging<25,>=23.2 in /root/anaconda3/lib/python3.12/site-packages (from langchain-core<0.4.0,>=0.3.15->langchain-tavily) (24.1)\n",
      "Requirement already satisfied: typing-extensions>=4.7 in /root/anaconda3/lib/python3.12/site-packages (from langchain-core<0.4.0,>=0.3.15->langchain-tavily) (4.13.2)\n",
      "Requirement already satisfied: mypy_extensions>=1.0.0 in /root/anaconda3/lib/python3.12/site-packages (from mypy<2.0.0,>=1.15.0->langchain-tavily) (1.0.0)\n",
      "Requirement already satisfied: pathspec>=0.9.0 in /root/anaconda3/lib/python3.12/site-packages (from mypy<2.0.0,>=1.15.0->langchain-tavily) (0.10.3)\n",
      "Requirement already satisfied: charset-normalizer<4,>=2 in /root/anaconda3/lib/python3.12/site-packages (from requests<3.0.0,>=2.32.3->langchain-tavily) (2.0.4)\n",
      "Requirement already satisfied: idna<4,>=2.5 in /root/anaconda3/lib/python3.12/site-packages (from requests<3.0.0,>=2.32.3->langchain-tavily) (3.7)\n",
      "Requirement already satisfied: urllib3<3,>=1.21.1 in /root/anaconda3/lib/python3.12/site-packages (from requests<3.0.0,>=2.32.3->langchain-tavily) (1.26.20)\n",
      "Requirement already satisfied: certifi>=2017.4.17 in /root/anaconda3/lib/python3.12/site-packages (from requests<3.0.0,>=2.32.3->langchain-tavily) (2024.2.2)\n",
      "Requirement already satisfied: jsonpointer>=1.9 in /root/anaconda3/lib/python3.12/site-packages (from jsonpatch<2.0,>=1.33->langchain-core<0.4.0,>=0.3.15->langchain-tavily) (2.1)\n",
      "Requirement already satisfied: httpx<1,>=0.23.0 in /root/anaconda3/lib/python3.12/site-packages (from langsmith<0.4,>=0.1.17->langchain<0.4.0,>=0.3.20->langchain-tavily) (0.28.1)\n",
      "Requirement already satisfied: orjson<4.0.0,>=3.9.14 in /root/anaconda3/lib/python3.12/site-packages (from langsmith<0.4,>=0.1.17->langchain<0.4.0,>=0.3.20->langchain-tavily) (3.10.13)\n",
      "Requirement already satisfied: requests-toolbelt<2.0.0,>=1.0.0 in /root/anaconda3/lib/python3.12/site-packages (from langsmith<0.4,>=0.1.17->langchain<0.4.0,>=0.3.20->langchain-tavily) (1.0.0)\n",
      "Requirement already satisfied: zstandard<0.24.0,>=0.23.0 in /root/anaconda3/lib/python3.12/site-packages (from langsmith<0.4,>=0.1.17->langchain<0.4.0,>=0.3.20->langchain-tavily) (0.23.0)\n",
      "Requirement already satisfied: annotated-types>=0.6.0 in /root/anaconda3/lib/python3.12/site-packages (from pydantic<3.0.0,>=2.7.4->langchain<0.4.0,>=0.3.20->langchain-tavily) (0.6.0)\n",
      "Requirement already satisfied: pydantic-core==2.33.2 in /root/anaconda3/lib/python3.12/site-packages (from pydantic<3.0.0,>=2.7.4->langchain<0.4.0,>=0.3.20->langchain-tavily) (2.33.2)\n",
      "Requirement already satisfied: typing-inspection>=0.4.0 in /root/anaconda3/lib/python3.12/site-packages (from pydantic<3.0.0,>=2.7.4->langchain<0.4.0,>=0.3.20->langchain-tavily) (0.4.0)\n",
      "Requirement already satisfied: greenlet!=0.4.17 in /root/anaconda3/lib/python3.12/site-packages (from SQLAlchemy<3,>=1.4->langchain<0.4.0,>=0.3.20->langchain-tavily) (3.0.1)\n",
      "Requirement already satisfied: anyio in /root/anaconda3/lib/python3.12/site-packages (from httpx<1,>=0.23.0->langsmith<0.4,>=0.1.17->langchain<0.4.0,>=0.3.20->langchain-tavily) (4.8.0)\n",
      "Requirement already satisfied: httpcore==1.* in /root/anaconda3/lib/python3.12/site-packages (from httpx<1,>=0.23.0->langsmith<0.4,>=0.1.17->langchain<0.4.0,>=0.3.20->langchain-tavily) (1.0.7)\n",
      "Requirement already satisfied: h11<0.15,>=0.13 in /root/anaconda3/lib/python3.12/site-packages (from httpcore==1.*->httpx<1,>=0.23.0->langsmith<0.4,>=0.1.17->langchain<0.4.0,>=0.3.20->langchain-tavily) (0.14.0)\n",
      "Requirement already satisfied: sniffio>=1.1 in /root/anaconda3/lib/python3.12/site-packages (from anyio->httpx<1,>=0.23.0->langsmith<0.4,>=0.1.17->langchain<0.4.0,>=0.3.20->langchain-tavily) (1.3.0)\n",
      "\u001B[33mWARNING: Running pip as the 'root' user can result in broken permissions and conflicting behaviour with the system package manager. It is recommended to use a virtual environment instead: https://pip.pypa.io/warnings/venv\u001B[0m\u001B[33m\n",
      "\u001B[0m"
     ]
    }
   ],
   "source": [
    "!pip install -U langchain-tavily"
   ]
  },
  {
   "cell_type": "markdown",
   "id": "ee52567a-06c8-4541-97e5-598969e55086",
   "metadata": {},
   "source": [
    "然后即可导入该工具，并快速将其封装为LangGraph智能体工具："
   ]
  },
  {
   "cell_type": "code",
   "execution_count": 117,
   "id": "c13eb756-53c5-4508-97bc-9aa023a5c5a7",
   "metadata": {},
   "outputs": [],
   "source": [
    "from langchain_tavily import TavilySearch"
   ]
  },
  {
   "cell_type": "code",
   "execution_count": 118,
   "id": "77818543-5b1e-429e-9e79-4272687a71d3",
   "metadata": {},
   "outputs": [],
   "source": [
    "search_tool = TavilySearch(max_results=5, topic=\"general\")"
   ]
  },
  {
   "cell_type": "code",
   "execution_count": 119,
   "id": "977d66fe-b1be-4d66-94e4-c0fdec845c17",
   "metadata": {},
   "outputs": [],
   "source": [
    "tools = [search_tool]"
   ]
  },
  {
   "cell_type": "code",
   "execution_count": 120,
   "id": "13e0c0c4-5ad7-4402-9b89-254ffbb7a2b9",
   "metadata": {},
   "outputs": [],
   "source": [
    "search_agent = create_react_agent(model=model, tools=tools)"
   ]
  },
  {
   "cell_type": "code",
   "execution_count": 11,
   "id": "50f3e9bf-0470-4883-9e1b-72ed4949ca59",
   "metadata": {},
   "outputs": [],
   "source": [
    "response = search_agent.invoke({\"messages\": [{\"role\": \"user\", \"content\": \"请帮我搜索最近OpenAI CEO在访谈中的核心观点。\"}]})"
   ]
  },
  {
   "cell_type": "code",
   "execution_count": 12,
   "id": "16a0d227-dc65-4ae8-b101-930543e28b3f",
   "metadata": {},
   "outputs": [
    {
     "name": "stdout",
     "output_type": "stream",
     "text": [
      "最近OpenAI CEO Sam Altman在访谈中分享了一些核心观点，以下是主要内容：\n",
      "\n",
      "1. **追求宏大愿景吸引顶尖人才**：\n",
      "   - OpenAI的成功始于一个看似疯狂的目标——实现通用人工智能（AGI）。这种独特的使命吸引了世界上最聪明的人才。\n",
      "\n",
      "2. **创业时机与信念**：\n",
      "   - Altman认为当前是“技术史上最好的创业时期”，并鼓励创业者保持信念，勇敢面对挑战。\n",
      "   - 他强调初创企业应在AI巨头的阴影下构建独特的护城河。\n",
      "\n",
      "3. **未来技术展望**：\n",
      "   - 他提到未来的人机交互将趋于个性化，界面将“融化”消失，计算机将成为无缝融入生活的智能伙伴。\n",
      "   - OpenAI的技术路线图包括从GPT-5到机器人时代的发展，期待模型能进行深度推理和实时视频生成。\n",
      "\n",
      "4. **AI与能源的结合**：\n",
      "   - Altman对AI和能源（如核聚变）抱有热情，认为智能和能源是通往彻底富足未来的两大技术杠杆。\n",
      "\n",
      "5. **对创业者的建议**：\n",
      "   - 他建议创业者关注独特性，避免复制基础模型，利用平台探索尚未满足的市场。\n",
      "\n",
      "更多详细内容可以参考以下来源：\n",
      "- [网易新闻访谈](https://www.163.com/dy/article/K2NTSA7805534HHB.html)\n",
      "- [腾讯新闻访谈](https://news.qq.com/rain/a/20250623A03G6200)\n"
     ]
    }
   ],
   "source": [
    "print(response[\"messages\"][-1].content)"
   ]
  },
  {
   "cell_type": "markdown",
   "id": "7ca0540e-0d29-44f5-bc58-9496f63ee2df",
   "metadata": {},
   "source": [
    "#### 5. LangGraph React Agent限制最大迭代次数"
   ]
  },
  {
   "cell_type": "markdown",
   "id": "5b7040c7-5255-4425-a71c-861069bbd5d3",
   "metadata": {},
   "source": [
    "> LangChain工具集：https://python.langchain.com/docs/integrations/tools/ "
   ]
  },
  {
   "cell_type": "markdown",
   "id": "c32e245b-a292-42ab-a9da-90716918fab3",
   "metadata": {},
   "source": [
    "<center><img src=\"https://ml2022.oss-cn-hangzhou.aliyuncs.com/img/image-20250626155849820.png\" alt=\"image-20250626155849820\" style=\"zoom:50%;\" />"
   ]
  },
  {
   "cell_type": "markdown",
   "id": "6347809e-de75-49e4-a9c9-04271a7a6a22",
   "metadata": {},
   "source": [
    "### 5. LangGraph React Agent限制工具调用次数"
   ]
  },
  {
   "cell_type": "markdown",
   "id": "29a066aa-0516-4d46-b1e1-1a3cd2c54ca3",
   "metadata": {},
   "source": [
    "&emsp;&emsp;对于任何全自动的代理，合理控制调用次数都是至关重要的一环，对于LangGraph React Agent来说，我们只需要在Agent运行的时候设置{\"recursion_limit\": X}，即可限制智能体自主执行任务时的步数。"
   ]
  },
  {
   "cell_type": "code",
   "execution_count": 100,
   "id": "3c4dc76b-9b20-4fc2-aa25-84376d7f5e71",
   "metadata": {},
   "outputs": [],
   "source": [
    "try:\n",
    "    response = agent.invoke(\n",
    "        {\"messages\": [{\"role\": \"user\", \"content\": \"请问北京今天天气如何？\"}]},\n",
    "        {\"recursion_limit\": 4},\n",
    "    )\n",
    "except GraphRecursionError:\n",
    "    print(\"Agent stopped due to max iterations.\")"
   ]
  },
  {
   "cell_type": "code",
   "execution_count": 103,
   "id": "138a45fa-024f-4ac4-ad68-80e3aa81ec9e",
   "metadata": {},
   "outputs": [
    {
     "data": {
      "text/plain": [
       "'北京今天的天气是多云，阴天。当前温度为28.42°C，体感温度为28.04°C。湿度为40%，风速为7.24米/秒，风向为214度。能见度为10000米。'"
      ]
     },
     "execution_count": 103,
     "metadata": {},
     "output_type": "execute_result"
    }
   ],
   "source": [
    "response['messages'][-1].content"
   ]
  },
  {
   "cell_type": "code",
   "execution_count": 101,
   "id": "1782b551-aa41-4582-a8e3-97be660dd838",
   "metadata": {},
   "outputs": [
    {
     "data": {
      "text/plain": [
       "[HumanMessage(content='请问北京今天天气如何？', additional_kwargs={}, response_metadata={}, id='7bab4f6f-2abd-4caa-a6c7-da79e33562c5'),\n",
       " AIMessage(content='', additional_kwargs={'tool_calls': [{'id': 'call_0_812fd4ed-a56d-4c59-8c7b-f454a99d0ca3', 'function': {'arguments': '{\"loc\":\"Beijing\"}', 'name': 'get_weather'}, 'type': 'function', 'index': 0}], 'refusal': None}, response_metadata={'token_usage': {'completion_tokens': 19, 'prompt_tokens': 341, 'total_tokens': 360, 'completion_tokens_details': None, 'prompt_tokens_details': {'audio_tokens': None, 'cached_tokens': 320}, 'prompt_cache_hit_tokens': 320, 'prompt_cache_miss_tokens': 21}, 'model_name': 'deepseek-chat', 'system_fingerprint': 'fp_8802369eaa_prod0623_fp8_kvcache', 'id': '719434fd-9a71-430c-bc19-0cbf5fc34a00', 'service_tier': None, 'finish_reason': 'tool_calls', 'logprobs': None}, id='run--f9d3fded-8623-4023-9e23-c71cd01a5e9a-0', tool_calls=[{'name': 'get_weather', 'args': {'loc': 'Beijing'}, 'id': 'call_0_812fd4ed-a56d-4c59-8c7b-f454a99d0ca3', 'type': 'tool_call'}], usage_metadata={'input_tokens': 341, 'output_tokens': 19, 'total_tokens': 360, 'input_token_details': {'cache_read': 320}, 'output_token_details': {}}),\n",
       " ToolMessage(content='{\"coord\": {\"lon\": 116.3972, \"lat\": 39.9075}, \"weather\": [{\"id\": 804, \"main\": \"Clouds\", \"description\": \"\\\\u9634\\\\uff0c\\\\u591a\\\\u4e91\", \"icon\": \"04d\"}], \"base\": \"stations\", \"main\": {\"temp\": 28.42, \"feels_like\": 28.04, \"temp_min\": 28.42, \"temp_max\": 28.42, \"pressure\": 1004, \"humidity\": 40, \"sea_level\": 1004, \"grnd_level\": 999}, \"visibility\": 10000, \"wind\": {\"speed\": 7.24, \"deg\": 214, \"gust\": 10.16}, \"clouds\": {\"all\": 97}, \"dt\": 1750931154, \"sys\": {\"country\": \"CN\", \"sunrise\": 1750884439, \"sunset\": 1750938415}, \"timezone\": 28800, \"id\": 1816670, \"name\": \"Beijing\", \"cod\": 200}', name='get_weather', id='96f4d7d1-2ad2-4f7c-b00f-dfb1523949a2', tool_call_id='call_0_812fd4ed-a56d-4c59-8c7b-f454a99d0ca3'),\n",
       " AIMessage(content='北京今天的天气是多云，阴天。当前温度为28.42°C，体感温度为28.04°C。湿度为40%，风速为7.24米/秒，风向为214度。能见度为10000米。', additional_kwargs={'refusal': None}, response_metadata={'token_usage': {'completion_tokens': 51, 'prompt_tokens': 615, 'total_tokens': 666, 'completion_tokens_details': None, 'prompt_tokens_details': {'audio_tokens': None, 'cached_tokens': 320}, 'prompt_cache_hit_tokens': 320, 'prompt_cache_miss_tokens': 295}, 'model_name': 'deepseek-chat', 'system_fingerprint': 'fp_8802369eaa_prod0623_fp8_kvcache', 'id': '04f542ba-9aad-48bd-910c-e4f99e257482', 'service_tier': None, 'finish_reason': 'stop', 'logprobs': None}, id='run--75edd7eb-1b92-4889-af0c-4994628f54dc-0', usage_metadata={'input_tokens': 615, 'output_tokens': 51, 'total_tokens': 666, 'input_token_details': {'cache_read': 320}, 'output_token_details': {}})]"
      ]
     },
     "execution_count": 101,
     "metadata": {},
     "output_type": "execute_result"
    }
   ],
   "source": [
    "response['messages']"
   ]
  },
  {
   "cell_type": "code",
   "execution_count": 104,
   "id": "9a378542-a47c-4362-af8e-7288c43e8ebf",
   "metadata": {},
   "outputs": [
    {
     "data": {
      "text/plain": [
       "4"
      ]
     },
     "execution_count": 104,
     "metadata": {},
     "output_type": "execute_result"
    }
   ],
   "source": [
    "len(response['messages'])"
   ]
  },
  {
   "cell_type": "code",
   "execution_count": 105,
   "id": "148561d1-37a3-41b0-85f1-fbb9bdc3631c",
   "metadata": {},
   "outputs": [],
   "source": [
    "try:\n",
    "    response = agent.invoke(\n",
    "        {\"messages\": [{\"role\": \"user\", \"content\": \"请问北京今天天气如何？\"}]},\n",
    "        {\"recursion_limit\": 2},\n",
    "    )\n",
    "except GraphRecursionError:\n",
    "    print(\"Agent stopped due to max iterations.\")"
   ]
  },
  {
   "cell_type": "code",
   "execution_count": 107,
   "id": "c17a6425-645f-4f1e-90fe-559c159e7244",
   "metadata": {},
   "outputs": [
    {
     "data": {
      "text/plain": [
       "[HumanMessage(content='请问北京今天天气如何？', additional_kwargs={}, response_metadata={}, id='7e9edf31-84fa-4a42-bad0-2835aa4ca702'),\n",
       " AIMessage(content='Sorry, need more steps to process this request.', additional_kwargs={}, response_metadata={}, id='run--9ee8035c-977a-492f-b0e1-aba84ae632ab-0')]"
      ]
     },
     "execution_count": 107,
     "metadata": {},
     "output_type": "execute_result"
    }
   ],
   "source": [
    "response['messages']"
   ]
  },
  {
   "cell_type": "code",
   "execution_count": 108,
   "id": "6d1de6bb-3255-4735-a1c5-2167da0613fd",
   "metadata": {},
   "outputs": [
    {
     "data": {
      "text/plain": [
       "'Sorry, need more steps to process this request.'"
      ]
     },
     "execution_count": 108,
     "metadata": {},
     "output_type": "execute_result"
    }
   ],
   "source": [
    "response['messages'][-1].content"
   ]
  },
  {
   "cell_type": "markdown",
   "id": "e18eb710-841b-40a6-9649-bedbe409700e",
   "metadata": {},
   "source": [
    "## 三、LangGraph React智能体记忆管理与多轮对话方法"
   ]
  },
  {
   "cell_type": "markdown",
   "id": "5e2cf881-34b2-4e89-bdc6-691dc94d8790",
   "metadata": {},
   "source": [
    "&emsp;&emsp;在实际进行Agent开发时，还有一项工作至关重要，那就是需要管理智能体的记忆。"
   ]
  },
  {
   "cell_type": "code",
   "execution_count": 122,
   "id": "17e0fac7-29a0-439f-bef3-2b159fe32eab",
   "metadata": {},
   "outputs": [],
   "source": [
    "from langgraph.checkpoint.memory import InMemorySaver"
   ]
  },
  {
   "cell_type": "code",
   "execution_count": 123,
   "id": "49581f7a-379b-4c34-aeaf-52904c2578ed",
   "metadata": {},
   "outputs": [],
   "source": [
    "checkpointer = InMemorySaver()\n",
    "tools = [get_weather]\n",
    "model = init_chat_model(model=\"deepseek-chat\", model_provider=\"deepseek\")\n",
    "agent = create_react_agent(model=model,\n",
    "                           tools=tools,\n",
    "                           checkpointer=checkpointer)\n",
    "\n",
    "config = {\n",
    "    \"configurable\": {\n",
    "        \"thread_id\": \"1\"\n",
    "    }\n",
    "}\n",
    "\n",
    "response = agent.invoke(\n",
    "    {\"messages\": [{\"role\": \"user\", \"content\": \"你好，我叫陈明，好久不见！\"}]},\n",
    "    config\n",
    ")"
   ]
  },
  {
   "cell_type": "code",
   "execution_count": 130,
   "id": "a7bc5809-d0bd-4bd7-bb7a-176e61702b7a",
   "metadata": {},
   "outputs": [
    {
     "data": {
      "text/plain": [
       "[HumanMessage(content='你好，我叫陈明，好久不见！', additional_kwargs={}, response_metadata={}, id='99a94aaa-c095-43db-a944-72b80b97ef4d'),\n",
       " AIMessage(content='你好，陈明！确实好久不见了，最近过得怎么样？有什么我可以帮你的吗？', additional_kwargs={'refusal': None}, response_metadata={'token_usage': {'completion_tokens': 19, 'prompt_tokens': 225, 'total_tokens': 244, 'completion_tokens_details': None, 'prompt_tokens_details': {'audio_tokens': None, 'cached_tokens': 192}, 'prompt_cache_hit_tokens': 192, 'prompt_cache_miss_tokens': 33}, 'model_name': 'deepseek-chat', 'system_fingerprint': 'fp_8802369eaa_prod0623_fp8_kvcache', 'id': 'a07cc5e0-069f-4a24-9786-691fb6232064', 'service_tier': None, 'finish_reason': 'stop', 'logprobs': None}, id='run--d36d9cf7-322f-41f2-a4c6-90a8628e771b-0', usage_metadata={'input_tokens': 225, 'output_tokens': 19, 'total_tokens': 244, 'input_token_details': {'cache_read': 192}, 'output_token_details': {}})]"
      ]
     },
     "execution_count": 130,
     "metadata": {},
     "output_type": "execute_result"
    }
   ],
   "source": [
    "response['messages']"
   ]
  },
  {
   "cell_type": "code",
   "execution_count": 131,
   "id": "c54362f1-8197-4b82-8671-359417782574",
   "metadata": {},
   "outputs": [
    {
     "data": {
      "text/plain": [
       "'你好，陈明！确实好久不见了，最近过得怎么样？有什么我可以帮你的吗？'"
      ]
     },
     "execution_count": 131,
     "metadata": {},
     "output_type": "execute_result"
    }
   ],
   "source": [
    "response['messages'][-1].content"
   ]
  },
  {
   "cell_type": "markdown",
   "id": "c6499571-1fb5-4fcf-b9d5-7da8d805ea0c",
   "metadata": {},
   "source": [
    "此时记忆就自动保存在当前Agent和线程中："
   ]
  },
  {
   "cell_type": "code",
   "execution_count": 132,
   "id": "51590285-6bc8-41b0-a7a7-2b57454e1624",
   "metadata": {},
   "outputs": [],
   "source": [
    "latest = agent.get_state(config)"
   ]
  },
  {
   "cell_type": "code",
   "execution_count": 133,
   "id": "2c395822-216a-4427-ad20-bacd10842edb",
   "metadata": {},
   "outputs": [
    {
     "data": {
      "text/plain": [
       "StateSnapshot(values={'messages': [HumanMessage(content='你好，我叫陈明，好久不见！', additional_kwargs={}, response_metadata={}, id='99a94aaa-c095-43db-a944-72b80b97ef4d'), AIMessage(content='你好，陈明！确实好久不见了，最近过得怎么样？有什么我可以帮你的吗？', additional_kwargs={'refusal': None}, response_metadata={'token_usage': {'completion_tokens': 19, 'prompt_tokens': 225, 'total_tokens': 244, 'completion_tokens_details': None, 'prompt_tokens_details': {'audio_tokens': None, 'cached_tokens': 192}, 'prompt_cache_hit_tokens': 192, 'prompt_cache_miss_tokens': 33}, 'model_name': 'deepseek-chat', 'system_fingerprint': 'fp_8802369eaa_prod0623_fp8_kvcache', 'id': 'a07cc5e0-069f-4a24-9786-691fb6232064', 'service_tier': None, 'finish_reason': 'stop', 'logprobs': None}, id='run--d36d9cf7-322f-41f2-a4c6-90a8628e771b-0', usage_metadata={'input_tokens': 225, 'output_tokens': 19, 'total_tokens': 244, 'input_token_details': {'cache_read': 192}, 'output_token_details': {}})]}, next=(), config={'configurable': {'thread_id': '1', 'checkpoint_ns': '', 'checkpoint_id': '1f052786-1f80-61ea-8001-0e4e6e89a399'}}, metadata={'source': 'loop', 'writes': {'agent': {'messages': [AIMessage(content='你好，陈明！确实好久不见了，最近过得怎么样？有什么我可以帮你的吗？', additional_kwargs={'refusal': None}, response_metadata={'token_usage': {'completion_tokens': 19, 'prompt_tokens': 225, 'total_tokens': 244, 'completion_tokens_details': None, 'prompt_tokens_details': {'audio_tokens': None, 'cached_tokens': 192}, 'prompt_cache_hit_tokens': 192, 'prompt_cache_miss_tokens': 33}, 'model_name': 'deepseek-chat', 'system_fingerprint': 'fp_8802369eaa_prod0623_fp8_kvcache', 'id': 'a07cc5e0-069f-4a24-9786-691fb6232064', 'service_tier': None, 'finish_reason': 'stop', 'logprobs': None}, id='run--d36d9cf7-322f-41f2-a4c6-90a8628e771b-0', usage_metadata={'input_tokens': 225, 'output_tokens': 19, 'total_tokens': 244, 'input_token_details': {'cache_read': 192}, 'output_token_details': {}})]}}, 'step': 1, 'parents': {}, 'thread_id': '1'}, created_at='2025-06-26T10:29:04.168150+00:00', parent_config={'configurable': {'thread_id': '1', 'checkpoint_ns': '', 'checkpoint_id': '1f052785-f961-6dfd-8000-721e9cd1348b'}}, tasks=(), interrupts=())"
      ]
     },
     "execution_count": 133,
     "metadata": {},
     "output_type": "execute_result"
    }
   ],
   "source": [
    "latest"
   ]
  },
  {
   "cell_type": "markdown",
   "id": "619fcc3a-113b-44be-9638-cdcf583b77b3",
   "metadata": {},
   "source": [
    "当我们再次进行对话时，直接带入线程ID，即可带入此前对话记忆："
   ]
  },
  {
   "cell_type": "code",
   "execution_count": 134,
   "id": "f236698b-5cdb-48a8-b603-66ef12dc68f0",
   "metadata": {},
   "outputs": [],
   "source": [
    "response = agent.invoke(\n",
    "    {\"messages\": [{\"role\": \"user\", \"content\": \"你好，请问你还记得我叫什么名字么？\"}]},\n",
    "    config\n",
    ")"
   ]
  },
  {
   "cell_type": "code",
   "execution_count": 135,
   "id": "77e04cc0-1ae7-4da6-84d4-a6715ff84203",
   "metadata": {},
   "outputs": [
    {
     "data": {
      "text/plain": [
       "[HumanMessage(content='你好，我叫陈明，好久不见！', additional_kwargs={}, response_metadata={}, id='99a94aaa-c095-43db-a944-72b80b97ef4d'),\n",
       " AIMessage(content='你好，陈明！确实好久不见了，最近过得怎么样？有什么我可以帮你的吗？', additional_kwargs={'refusal': None}, response_metadata={'token_usage': {'completion_tokens': 19, 'prompt_tokens': 225, 'total_tokens': 244, 'completion_tokens_details': None, 'prompt_tokens_details': {'audio_tokens': None, 'cached_tokens': 192}, 'prompt_cache_hit_tokens': 192, 'prompt_cache_miss_tokens': 33}, 'model_name': 'deepseek-chat', 'system_fingerprint': 'fp_8802369eaa_prod0623_fp8_kvcache', 'id': 'a07cc5e0-069f-4a24-9786-691fb6232064', 'service_tier': None, 'finish_reason': 'stop', 'logprobs': None}, id='run--d36d9cf7-322f-41f2-a4c6-90a8628e771b-0', usage_metadata={'input_tokens': 225, 'output_tokens': 19, 'total_tokens': 244, 'input_token_details': {'cache_read': 192}, 'output_token_details': {}}),\n",
       " HumanMessage(content='你好，请问你还记得我叫什么名字么？', additional_kwargs={}, response_metadata={}, id='678a6591-6cbb-4e80-8da1-57be94976a52'),\n",
       " AIMessage(content='当然记得！你刚刚告诉我你叫陈明。有什么需要帮忙的吗？', additional_kwargs={'refusal': None}, response_metadata={'token_usage': {'completion_tokens': 16, 'prompt_tokens': 257, 'total_tokens': 273, 'completion_tokens_details': None, 'prompt_tokens_details': {'audio_tokens': None, 'cached_tokens': 192}, 'prompt_cache_hit_tokens': 192, 'prompt_cache_miss_tokens': 65}, 'model_name': 'deepseek-chat', 'system_fingerprint': 'fp_8802369eaa_prod0623_fp8_kvcache', 'id': 'f92c722c-bbe4-4d10-bd09-10838ea68d35', 'service_tier': None, 'finish_reason': 'stop', 'logprobs': None}, id='run--3fbece08-4322-40dd-9b5e-24f2b85cbd06-0', usage_metadata={'input_tokens': 257, 'output_tokens': 16, 'total_tokens': 273, 'input_token_details': {'cache_read': 192}, 'output_token_details': {}})]"
      ]
     },
     "execution_count": 135,
     "metadata": {},
     "output_type": "execute_result"
    }
   ],
   "source": [
    "response['messages']"
   ]
  },
  {
   "cell_type": "code",
   "execution_count": 136,
   "id": "2c7403c8-9e13-4093-a0da-27820bef437a",
   "metadata": {},
   "outputs": [
    {
     "data": {
      "text/plain": [
       "'当然记得！你刚刚告诉我你叫陈明。有什么需要帮忙的吗？'"
      ]
     },
     "execution_count": 136,
     "metadata": {},
     "output_type": "execute_result"
    }
   ],
   "source": [
    "response['messages'][-1].content"
   ]
  },
  {
   "cell_type": "code",
   "execution_count": 137,
   "id": "0fe5f9bc-04a8-484f-a152-cdc076ff2eab",
   "metadata": {},
   "outputs": [
    {
     "data": {
      "text/plain": [
       "StateSnapshot(values={'messages': [HumanMessage(content='你好，我叫陈明，好久不见！', additional_kwargs={}, response_metadata={}, id='99a94aaa-c095-43db-a944-72b80b97ef4d'), AIMessage(content='你好，陈明！确实好久不见了，最近过得怎么样？有什么我可以帮你的吗？', additional_kwargs={'refusal': None}, response_metadata={'token_usage': {'completion_tokens': 19, 'prompt_tokens': 225, 'total_tokens': 244, 'completion_tokens_details': None, 'prompt_tokens_details': {'audio_tokens': None, 'cached_tokens': 192}, 'prompt_cache_hit_tokens': 192, 'prompt_cache_miss_tokens': 33}, 'model_name': 'deepseek-chat', 'system_fingerprint': 'fp_8802369eaa_prod0623_fp8_kvcache', 'id': 'a07cc5e0-069f-4a24-9786-691fb6232064', 'service_tier': None, 'finish_reason': 'stop', 'logprobs': None}, id='run--d36d9cf7-322f-41f2-a4c6-90a8628e771b-0', usage_metadata={'input_tokens': 225, 'output_tokens': 19, 'total_tokens': 244, 'input_token_details': {'cache_read': 192}, 'output_token_details': {}}), HumanMessage(content='你好，请问你还记得我叫什么名字么？', additional_kwargs={}, response_metadata={}, id='678a6591-6cbb-4e80-8da1-57be94976a52'), AIMessage(content='当然记得！你刚刚告诉我你叫陈明。有什么需要帮忙的吗？', additional_kwargs={'refusal': None}, response_metadata={'token_usage': {'completion_tokens': 16, 'prompt_tokens': 257, 'total_tokens': 273, 'completion_tokens_details': None, 'prompt_tokens_details': {'audio_tokens': None, 'cached_tokens': 192}, 'prompt_cache_hit_tokens': 192, 'prompt_cache_miss_tokens': 65}, 'model_name': 'deepseek-chat', 'system_fingerprint': 'fp_8802369eaa_prod0623_fp8_kvcache', 'id': 'f92c722c-bbe4-4d10-bd09-10838ea68d35', 'service_tier': None, 'finish_reason': 'stop', 'logprobs': None}, id='run--3fbece08-4322-40dd-9b5e-24f2b85cbd06-0', usage_metadata={'input_tokens': 257, 'output_tokens': 16, 'total_tokens': 273, 'input_token_details': {'cache_read': 192}, 'output_token_details': {}})]}, next=(), config={'configurable': {'thread_id': '1', 'checkpoint_ns': '', 'checkpoint_id': '1f05278b-1b95-6ec5-8004-51137ac9cb01'}}, metadata={'source': 'loop', 'writes': {'agent': {'messages': [AIMessage(content='当然记得！你刚刚告诉我你叫陈明。有什么需要帮忙的吗？', additional_kwargs={'refusal': None}, response_metadata={'token_usage': {'completion_tokens': 16, 'prompt_tokens': 257, 'total_tokens': 273, 'completion_tokens_details': None, 'prompt_tokens_details': {'audio_tokens': None, 'cached_tokens': 192}, 'prompt_cache_hit_tokens': 192, 'prompt_cache_miss_tokens': 65}, 'model_name': 'deepseek-chat', 'system_fingerprint': 'fp_8802369eaa_prod0623_fp8_kvcache', 'id': 'f92c722c-bbe4-4d10-bd09-10838ea68d35', 'service_tier': None, 'finish_reason': 'stop', 'logprobs': None}, id='run--3fbece08-4322-40dd-9b5e-24f2b85cbd06-0', usage_metadata={'input_tokens': 257, 'output_tokens': 16, 'total_tokens': 273, 'input_token_details': {'cache_read': 192}, 'output_token_details': {}})]}}, 'step': 4, 'parents': {}, 'thread_id': '1'}, created_at='2025-06-26T10:31:17.975371+00:00', parent_config={'configurable': {'thread_id': '1', 'checkpoint_ns': '', 'checkpoint_id': '1f05278a-f895-6132-8003-d65e4c9f2550'}}, tasks=(), interrupts=())"
      ]
     },
     "execution_count": 137,
     "metadata": {},
     "output_type": "execute_result"
    }
   ],
   "source": [
    "latest = agent.get_state(config)\n",
    "latest"
   ]
  },
  {
   "cell_type": "markdown",
   "id": "d2317036-115f-459a-a8bd-99409e4f8215",
   "metadata": {},
   "source": [
    "而如果更新线程ID，则会重新开启对话："
   ]
  },
  {
   "cell_type": "code",
   "execution_count": 138,
   "id": "135cf7e8-4ec0-4787-a3fe-a4d2ce859561",
   "metadata": {},
   "outputs": [],
   "source": [
    "config2 = {\n",
    "    \"configurable\": {\n",
    "        \"thread_id\": \"2\"  \n",
    "    }\n",
    "}"
   ]
  },
  {
   "cell_type": "code",
   "execution_count": 139,
   "id": "66ca9239-a4e8-4bf1-a5b2-711e3104d02d",
   "metadata": {},
   "outputs": [],
   "source": [
    "response2 = agent.invoke(\n",
    "    {\"messages\": [{\"role\": \"user\", \"content\": \"你好，你还记得我叫什么名字么？\"}]},\n",
    "    config2\n",
    ")"
   ]
  },
  {
   "cell_type": "code",
   "execution_count": 140,
   "id": "25f28f73-aa0f-4fad-8fd5-4bb3339b1bd8",
   "metadata": {},
   "outputs": [
    {
     "data": {
      "text/plain": [
       "[HumanMessage(content='你好，你还记得我叫什么名字么？', additional_kwargs={}, response_metadata={}, id='cc08c35d-21d8-4439-a343-f64e94cc6b4a'),\n",
       " AIMessage(content='目前我还不知道你的名字，但如果你愿意告诉我，我会记住的！你可以告诉我你的名字吗？', additional_kwargs={'refusal': None}, response_metadata={'token_usage': {'completion_tokens': 21, 'prompt_tokens': 225, 'total_tokens': 246, 'completion_tokens_details': None, 'prompt_tokens_details': {'audio_tokens': None, 'cached_tokens': 192}, 'prompt_cache_hit_tokens': 192, 'prompt_cache_miss_tokens': 33}, 'model_name': 'deepseek-chat', 'system_fingerprint': 'fp_8802369eaa_prod0623_fp8_kvcache', 'id': '829a29c3-8dad-42e9-85c1-5434d4b42fcd', 'service_tier': None, 'finish_reason': 'stop', 'logprobs': None}, id='run--d9d1addd-68e4-4506-9c59-943ca59836b2-0', usage_metadata={'input_tokens': 225, 'output_tokens': 21, 'total_tokens': 246, 'input_token_details': {'cache_read': 192}, 'output_token_details': {}})]"
      ]
     },
     "execution_count": 140,
     "metadata": {},
     "output_type": "execute_result"
    }
   ],
   "source": [
    "response2['messages']"
   ]
  },
  {
   "cell_type": "markdown",
   "id": "1b2e9023-a90b-4729-b8b6-2f6c00ba9a71",
   "metadata": {},
   "source": [
    "此外，关于记忆的管理，往往还涉及记忆持久化存储、跨线程记忆管理、修建&总结历史记录、设置用户偏好记忆、记忆修改、语义搜索、数据加密、快照回复、人机交互（Human in loop）等功能，受限于公开课时间，无法具体展开介绍，感兴趣的同学可以参与付费课程进行更深入的学习，欢迎大家报名由我主讲的[《2025大模型Agent智能体开发实战》(夏季班)](https://ix9mq.xetslk.com/s/2lPSMo)，下图扫码即可咨询。"
   ]
  }
 ],
 "metadata": {
  "kernelspec": {
   "display_name": "Python 3 (ipykernel)",
   "language": "python",
   "name": "python3"
  },
  "language_info": {
   "codemirror_mode": {
    "name": "ipython",
    "version": 3
   },
   "file_extension": ".py",
   "mimetype": "text/x-python",
   "name": "python",
   "nbconvert_exporter": "python",
   "pygments_lexer": "ipython3",
   "version": "3.12.4"
  }
 },
 "nbformat": 4,
 "nbformat_minor": 5
}
